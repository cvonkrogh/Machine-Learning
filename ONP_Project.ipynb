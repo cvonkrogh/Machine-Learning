{
  "nbformat": 4,
  "nbformat_minor": 0,
  "metadata": {
    "colab": {
      "provenance": []
    },
    "kernelspec": {
      "name": "python3",
      "display_name": "Python 3"
    },
    "language_info": {
      "name": "python"
    }
  },
  "cells": [
    {
      "cell_type": "code",
      "execution_count": 1,
      "metadata": {
        "colab": {
          "base_uri": "https://localhost:8080/"
        },
        "id": "cAzp0wpES2mJ",
        "outputId": "c7d50e24-2f5b-41e7-e6d2-45ca54bb1228"
      },
      "outputs": [
        {
          "output_type": "stream",
          "name": "stdout",
          "text": [
            "Collecting imblearn\n",
            "  Downloading imblearn-0.0-py2.py3-none-any.whl (1.9 kB)\n",
            "Requirement already satisfied: imbalanced-learn in /usr/local/lib/python3.10/dist-packages (from imblearn) (0.10.1)\n",
            "Requirement already satisfied: numpy>=1.17.3 in /usr/local/lib/python3.10/dist-packages (from imbalanced-learn->imblearn) (1.23.5)\n",
            "Requirement already satisfied: scipy>=1.3.2 in /usr/local/lib/python3.10/dist-packages (from imbalanced-learn->imblearn) (1.11.4)\n",
            "Requirement already satisfied: scikit-learn>=1.0.2 in /usr/local/lib/python3.10/dist-packages (from imbalanced-learn->imblearn) (1.2.2)\n",
            "Requirement already satisfied: joblib>=1.1.1 in /usr/local/lib/python3.10/dist-packages (from imbalanced-learn->imblearn) (1.3.2)\n",
            "Requirement already satisfied: threadpoolctl>=2.0.0 in /usr/local/lib/python3.10/dist-packages (from imbalanced-learn->imblearn) (3.2.0)\n",
            "Installing collected packages: imblearn\n",
            "Successfully installed imblearn-0.0\n"
          ]
        }
      ],
      "source": [
        "import seaborn as sns\n",
        "from copy import copy\n",
        "\n",
        "import numpy as np\n",
        "from sklearn import preprocessing\n",
        "from sklearn.model_selection import train_test_split, cross_validate, cross_val_score, RepeatedStratifiedKFold\n",
        "import matplotlib.pyplot as plt\n",
        "import seaborn as sns\n",
        "from sklearn.decomposition import PCA\n",
        "from sklearn.cluster import KMeans\n",
        "from sklearn.linear_model import LogisticRegression\n",
        "from sklearn.svm import SVC\n",
        "from sklearn.metrics import classification_report, recall_score, precision_score, accuracy_score\n",
        "from sklearn.neighbors import KNeighborsClassifier\n",
        "from sklearn.tree import DecisionTreeClassifier\n",
        "from collections import Counter\n",
        "!pip install imblearn\n",
        "import imblearn\n",
        "from imblearn.over_sampling import SMOTE\n",
        "from numpy import mean\n",
        "from sklearn.datasets import make_classification\n",
        "from sklearn.tree import DecisionTreeClassifier\n",
        "from imblearn.pipeline import Pipeline\n",
        "from imblearn.under_sampling import RandomUnderSampler\n",
        "from imblearn.pipeline import make_pipeline as make_imb_pipeline\n",
        "from sklearn.impute import SimpleImputer"
      ]
    },
    {
      "cell_type": "code",
      "source": [],
      "metadata": {
        "id": "BvgGJMk-XJW3"
      },
      "execution_count": null,
      "outputs": []
    },
    {
      "cell_type": "markdown",
      "source": [
        "# Online News Popularity\n",
        "Data upload + first look"
      ],
      "metadata": {
        "id": "jSsWFvIwXKTA"
      }
    },
    {
      "cell_type": "code",
      "source": [
        "import pandas as pd\n",
        "\n",
        "onpdata = pd.read_csv('https://raw.githubusercontent.com/Constantin2610/ONP/main/OnlineNewsPopularity/OnlineNewsPopularity.csv')"
      ],
      "metadata": {
        "id": "kJcUJ9zNXVur"
      },
      "execution_count": 6,
      "outputs": []
    },
    {
      "cell_type": "code",
      "source": [
        "onpdata.info()"
      ],
      "metadata": {
        "colab": {
          "base_uri": "https://localhost:8080/"
        },
        "id": "MQe9fAa5h1xt",
        "outputId": "40a442d2-81f7-4c9b-c5ed-da904f82eecc"
      },
      "execution_count": 7,
      "outputs": [
        {
          "output_type": "stream",
          "name": "stdout",
          "text": [
            "<class 'pandas.core.frame.DataFrame'>\n",
            "RangeIndex: 39644 entries, 0 to 39643\n",
            "Data columns (total 61 columns):\n",
            " #   Column                          Non-Null Count  Dtype  \n",
            "---  ------                          --------------  -----  \n",
            " 0   url                             39644 non-null  object \n",
            " 1    timedelta                      39644 non-null  float64\n",
            " 2    n_tokens_title                 39644 non-null  float64\n",
            " 3    n_tokens_content               39644 non-null  float64\n",
            " 4    n_unique_tokens                39644 non-null  float64\n",
            " 5    n_non_stop_words               39644 non-null  float64\n",
            " 6    n_non_stop_unique_tokens       39644 non-null  float64\n",
            " 7    num_hrefs                      39644 non-null  float64\n",
            " 8    num_self_hrefs                 39644 non-null  float64\n",
            " 9    num_imgs                       39644 non-null  float64\n",
            " 10   num_videos                     39644 non-null  float64\n",
            " 11   average_token_length           39644 non-null  float64\n",
            " 12   num_keywords                   39644 non-null  float64\n",
            " 13   data_channel_is_lifestyle      39644 non-null  float64\n",
            " 14   data_channel_is_entertainment  39644 non-null  float64\n",
            " 15   data_channel_is_bus            39644 non-null  float64\n",
            " 16   data_channel_is_socmed         39644 non-null  float64\n",
            " 17   data_channel_is_tech           39644 non-null  float64\n",
            " 18   data_channel_is_world          39644 non-null  float64\n",
            " 19   kw_min_min                     39644 non-null  float64\n",
            " 20   kw_max_min                     39644 non-null  float64\n",
            " 21   kw_avg_min                     39644 non-null  float64\n",
            " 22   kw_min_max                     39644 non-null  float64\n",
            " 23   kw_max_max                     39644 non-null  float64\n",
            " 24   kw_avg_max                     39644 non-null  float64\n",
            " 25   kw_min_avg                     39644 non-null  float64\n",
            " 26   kw_max_avg                     39644 non-null  float64\n",
            " 27   kw_avg_avg                     39644 non-null  float64\n",
            " 28   self_reference_min_shares      39644 non-null  float64\n",
            " 29   self_reference_max_shares      39644 non-null  float64\n",
            " 30   self_reference_avg_sharess     39644 non-null  float64\n",
            " 31   weekday_is_monday              39644 non-null  float64\n",
            " 32   weekday_is_tuesday             39644 non-null  float64\n",
            " 33   weekday_is_wednesday           39644 non-null  float64\n",
            " 34   weekday_is_thursday            39644 non-null  float64\n",
            " 35   weekday_is_friday              39644 non-null  float64\n",
            " 36   weekday_is_saturday            39644 non-null  float64\n",
            " 37   weekday_is_sunday              39644 non-null  float64\n",
            " 38   is_weekend                     39644 non-null  float64\n",
            " 39   LDA_00                         39644 non-null  float64\n",
            " 40   LDA_01                         39644 non-null  float64\n",
            " 41   LDA_02                         39644 non-null  float64\n",
            " 42   LDA_03                         39644 non-null  float64\n",
            " 43   LDA_04                         39644 non-null  float64\n",
            " 44   global_subjectivity            39644 non-null  float64\n",
            " 45   global_sentiment_polarity      39644 non-null  float64\n",
            " 46   global_rate_positive_words     39644 non-null  float64\n",
            " 47   global_rate_negative_words     39644 non-null  float64\n",
            " 48   rate_positive_words            39644 non-null  float64\n",
            " 49   rate_negative_words            39644 non-null  float64\n",
            " 50   avg_positive_polarity          39644 non-null  float64\n",
            " 51   min_positive_polarity          39644 non-null  float64\n",
            " 52   max_positive_polarity          39644 non-null  float64\n",
            " 53   avg_negative_polarity          39644 non-null  float64\n",
            " 54   min_negative_polarity          39644 non-null  float64\n",
            " 55   max_negative_polarity          39644 non-null  float64\n",
            " 56   title_subjectivity             39644 non-null  float64\n",
            " 57   title_sentiment_polarity       39644 non-null  float64\n",
            " 58   abs_title_subjectivity         39644 non-null  float64\n",
            " 59   abs_title_sentiment_polarity   39644 non-null  float64\n",
            " 60   shares                         39644 non-null  int64  \n",
            "dtypes: float64(59), int64(1), object(1)\n",
            "memory usage: 18.5+ MB\n"
          ]
        }
      ]
    },
    {
      "cell_type": "code",
      "source": [
        "onpdata.describe()"
      ],
      "metadata": {
        "colab": {
          "base_uri": "https://localhost:8080/",
          "height": 350
        },
        "id": "_mzHh-ETiERR",
        "outputId": "21a7763f-e69d-499e-c3e7-11459adec310"
      },
      "execution_count": 8,
      "outputs": [
        {
          "output_type": "execute_result",
          "data": {
            "text/plain": [
              "          timedelta   n_tokens_title   n_tokens_content   n_unique_tokens  \\\n",
              "count  39644.000000     39644.000000       39644.000000      39644.000000   \n",
              "mean     354.530471        10.398749         546.514731          0.548216   \n",
              "std      214.163767         2.114037         471.107508          3.520708   \n",
              "min        8.000000         2.000000           0.000000          0.000000   \n",
              "25%      164.000000         9.000000         246.000000          0.470870   \n",
              "50%      339.000000        10.000000         409.000000          0.539226   \n",
              "75%      542.000000        12.000000         716.000000          0.608696   \n",
              "max      731.000000        23.000000        8474.000000        701.000000   \n",
              "\n",
              "        n_non_stop_words   n_non_stop_unique_tokens     num_hrefs  \\\n",
              "count       39644.000000               39644.000000  39644.000000   \n",
              "mean            0.996469                   0.689175     10.883690   \n",
              "std             5.231231                   3.264816     11.332017   \n",
              "min             0.000000                   0.000000      0.000000   \n",
              "25%             1.000000                   0.625739      4.000000   \n",
              "50%             1.000000                   0.690476      8.000000   \n",
              "75%             1.000000                   0.754630     14.000000   \n",
              "max          1042.000000                 650.000000    304.000000   \n",
              "\n",
              "        num_self_hrefs      num_imgs    num_videos  ...  \\\n",
              "count     39644.000000  39644.000000  39644.000000  ...   \n",
              "mean          3.293638      4.544143      1.249874  ...   \n",
              "std           3.855141      8.309434      4.107855  ...   \n",
              "min           0.000000      0.000000      0.000000  ...   \n",
              "25%           1.000000      1.000000      0.000000  ...   \n",
              "50%           3.000000      1.000000      0.000000  ...   \n",
              "75%           4.000000      4.000000      1.000000  ...   \n",
              "max         116.000000    128.000000     91.000000  ...   \n",
              "\n",
              "        min_positive_polarity   max_positive_polarity   avg_negative_polarity  \\\n",
              "count            39644.000000            39644.000000            39644.000000   \n",
              "mean                 0.095446                0.756728               -0.259524   \n",
              "std                  0.071315                0.247786                0.127726   \n",
              "min                  0.000000                0.000000               -1.000000   \n",
              "25%                  0.050000                0.600000               -0.328383   \n",
              "50%                  0.100000                0.800000               -0.253333   \n",
              "75%                  0.100000                1.000000               -0.186905   \n",
              "max                  1.000000                1.000000                0.000000   \n",
              "\n",
              "        min_negative_polarity   max_negative_polarity   title_subjectivity  \\\n",
              "count            39644.000000            39644.000000         39644.000000   \n",
              "mean                -0.521944               -0.107500             0.282353   \n",
              "std                  0.290290                0.095373             0.324247   \n",
              "min                 -1.000000               -1.000000             0.000000   \n",
              "25%                 -0.700000               -0.125000             0.000000   \n",
              "50%                 -0.500000               -0.100000             0.150000   \n",
              "75%                 -0.300000               -0.050000             0.500000   \n",
              "max                  0.000000                0.000000             1.000000   \n",
              "\n",
              "        title_sentiment_polarity   abs_title_subjectivity  \\\n",
              "count               39644.000000             39644.000000   \n",
              "mean                    0.071425                 0.341843   \n",
              "std                     0.265450                 0.188791   \n",
              "min                    -1.000000                 0.000000   \n",
              "25%                     0.000000                 0.166667   \n",
              "50%                     0.000000                 0.500000   \n",
              "75%                     0.150000                 0.500000   \n",
              "max                     1.000000                 0.500000   \n",
              "\n",
              "        abs_title_sentiment_polarity         shares  \n",
              "count                   39644.000000   39644.000000  \n",
              "mean                        0.156064    3395.380184  \n",
              "std                         0.226294   11626.950749  \n",
              "min                         0.000000       1.000000  \n",
              "25%                         0.000000     946.000000  \n",
              "50%                         0.000000    1400.000000  \n",
              "75%                         0.250000    2800.000000  \n",
              "max                         1.000000  843300.000000  \n",
              "\n",
              "[8 rows x 60 columns]"
            ],
            "text/html": [
              "\n",
              "  <div id=\"df-631f03f5-5ce2-4697-b911-2bc9a81f4fa4\" class=\"colab-df-container\">\n",
              "    <div>\n",
              "<style scoped>\n",
              "    .dataframe tbody tr th:only-of-type {\n",
              "        vertical-align: middle;\n",
              "    }\n",
              "\n",
              "    .dataframe tbody tr th {\n",
              "        vertical-align: top;\n",
              "    }\n",
              "\n",
              "    .dataframe thead th {\n",
              "        text-align: right;\n",
              "    }\n",
              "</style>\n",
              "<table border=\"1\" class=\"dataframe\">\n",
              "  <thead>\n",
              "    <tr style=\"text-align: right;\">\n",
              "      <th></th>\n",
              "      <th>timedelta</th>\n",
              "      <th>n_tokens_title</th>\n",
              "      <th>n_tokens_content</th>\n",
              "      <th>n_unique_tokens</th>\n",
              "      <th>n_non_stop_words</th>\n",
              "      <th>n_non_stop_unique_tokens</th>\n",
              "      <th>num_hrefs</th>\n",
              "      <th>num_self_hrefs</th>\n",
              "      <th>num_imgs</th>\n",
              "      <th>num_videos</th>\n",
              "      <th>...</th>\n",
              "      <th>min_positive_polarity</th>\n",
              "      <th>max_positive_polarity</th>\n",
              "      <th>avg_negative_polarity</th>\n",
              "      <th>min_negative_polarity</th>\n",
              "      <th>max_negative_polarity</th>\n",
              "      <th>title_subjectivity</th>\n",
              "      <th>title_sentiment_polarity</th>\n",
              "      <th>abs_title_subjectivity</th>\n",
              "      <th>abs_title_sentiment_polarity</th>\n",
              "      <th>shares</th>\n",
              "    </tr>\n",
              "  </thead>\n",
              "  <tbody>\n",
              "    <tr>\n",
              "      <th>count</th>\n",
              "      <td>39644.000000</td>\n",
              "      <td>39644.000000</td>\n",
              "      <td>39644.000000</td>\n",
              "      <td>39644.000000</td>\n",
              "      <td>39644.000000</td>\n",
              "      <td>39644.000000</td>\n",
              "      <td>39644.000000</td>\n",
              "      <td>39644.000000</td>\n",
              "      <td>39644.000000</td>\n",
              "      <td>39644.000000</td>\n",
              "      <td>...</td>\n",
              "      <td>39644.000000</td>\n",
              "      <td>39644.000000</td>\n",
              "      <td>39644.000000</td>\n",
              "      <td>39644.000000</td>\n",
              "      <td>39644.000000</td>\n",
              "      <td>39644.000000</td>\n",
              "      <td>39644.000000</td>\n",
              "      <td>39644.000000</td>\n",
              "      <td>39644.000000</td>\n",
              "      <td>39644.000000</td>\n",
              "    </tr>\n",
              "    <tr>\n",
              "      <th>mean</th>\n",
              "      <td>354.530471</td>\n",
              "      <td>10.398749</td>\n",
              "      <td>546.514731</td>\n",
              "      <td>0.548216</td>\n",
              "      <td>0.996469</td>\n",
              "      <td>0.689175</td>\n",
              "      <td>10.883690</td>\n",
              "      <td>3.293638</td>\n",
              "      <td>4.544143</td>\n",
              "      <td>1.249874</td>\n",
              "      <td>...</td>\n",
              "      <td>0.095446</td>\n",
              "      <td>0.756728</td>\n",
              "      <td>-0.259524</td>\n",
              "      <td>-0.521944</td>\n",
              "      <td>-0.107500</td>\n",
              "      <td>0.282353</td>\n",
              "      <td>0.071425</td>\n",
              "      <td>0.341843</td>\n",
              "      <td>0.156064</td>\n",
              "      <td>3395.380184</td>\n",
              "    </tr>\n",
              "    <tr>\n",
              "      <th>std</th>\n",
              "      <td>214.163767</td>\n",
              "      <td>2.114037</td>\n",
              "      <td>471.107508</td>\n",
              "      <td>3.520708</td>\n",
              "      <td>5.231231</td>\n",
              "      <td>3.264816</td>\n",
              "      <td>11.332017</td>\n",
              "      <td>3.855141</td>\n",
              "      <td>8.309434</td>\n",
              "      <td>4.107855</td>\n",
              "      <td>...</td>\n",
              "      <td>0.071315</td>\n",
              "      <td>0.247786</td>\n",
              "      <td>0.127726</td>\n",
              "      <td>0.290290</td>\n",
              "      <td>0.095373</td>\n",
              "      <td>0.324247</td>\n",
              "      <td>0.265450</td>\n",
              "      <td>0.188791</td>\n",
              "      <td>0.226294</td>\n",
              "      <td>11626.950749</td>\n",
              "    </tr>\n",
              "    <tr>\n",
              "      <th>min</th>\n",
              "      <td>8.000000</td>\n",
              "      <td>2.000000</td>\n",
              "      <td>0.000000</td>\n",
              "      <td>0.000000</td>\n",
              "      <td>0.000000</td>\n",
              "      <td>0.000000</td>\n",
              "      <td>0.000000</td>\n",
              "      <td>0.000000</td>\n",
              "      <td>0.000000</td>\n",
              "      <td>0.000000</td>\n",
              "      <td>...</td>\n",
              "      <td>0.000000</td>\n",
              "      <td>0.000000</td>\n",
              "      <td>-1.000000</td>\n",
              "      <td>-1.000000</td>\n",
              "      <td>-1.000000</td>\n",
              "      <td>0.000000</td>\n",
              "      <td>-1.000000</td>\n",
              "      <td>0.000000</td>\n",
              "      <td>0.000000</td>\n",
              "      <td>1.000000</td>\n",
              "    </tr>\n",
              "    <tr>\n",
              "      <th>25%</th>\n",
              "      <td>164.000000</td>\n",
              "      <td>9.000000</td>\n",
              "      <td>246.000000</td>\n",
              "      <td>0.470870</td>\n",
              "      <td>1.000000</td>\n",
              "      <td>0.625739</td>\n",
              "      <td>4.000000</td>\n",
              "      <td>1.000000</td>\n",
              "      <td>1.000000</td>\n",
              "      <td>0.000000</td>\n",
              "      <td>...</td>\n",
              "      <td>0.050000</td>\n",
              "      <td>0.600000</td>\n",
              "      <td>-0.328383</td>\n",
              "      <td>-0.700000</td>\n",
              "      <td>-0.125000</td>\n",
              "      <td>0.000000</td>\n",
              "      <td>0.000000</td>\n",
              "      <td>0.166667</td>\n",
              "      <td>0.000000</td>\n",
              "      <td>946.000000</td>\n",
              "    </tr>\n",
              "    <tr>\n",
              "      <th>50%</th>\n",
              "      <td>339.000000</td>\n",
              "      <td>10.000000</td>\n",
              "      <td>409.000000</td>\n",
              "      <td>0.539226</td>\n",
              "      <td>1.000000</td>\n",
              "      <td>0.690476</td>\n",
              "      <td>8.000000</td>\n",
              "      <td>3.000000</td>\n",
              "      <td>1.000000</td>\n",
              "      <td>0.000000</td>\n",
              "      <td>...</td>\n",
              "      <td>0.100000</td>\n",
              "      <td>0.800000</td>\n",
              "      <td>-0.253333</td>\n",
              "      <td>-0.500000</td>\n",
              "      <td>-0.100000</td>\n",
              "      <td>0.150000</td>\n",
              "      <td>0.000000</td>\n",
              "      <td>0.500000</td>\n",
              "      <td>0.000000</td>\n",
              "      <td>1400.000000</td>\n",
              "    </tr>\n",
              "    <tr>\n",
              "      <th>75%</th>\n",
              "      <td>542.000000</td>\n",
              "      <td>12.000000</td>\n",
              "      <td>716.000000</td>\n",
              "      <td>0.608696</td>\n",
              "      <td>1.000000</td>\n",
              "      <td>0.754630</td>\n",
              "      <td>14.000000</td>\n",
              "      <td>4.000000</td>\n",
              "      <td>4.000000</td>\n",
              "      <td>1.000000</td>\n",
              "      <td>...</td>\n",
              "      <td>0.100000</td>\n",
              "      <td>1.000000</td>\n",
              "      <td>-0.186905</td>\n",
              "      <td>-0.300000</td>\n",
              "      <td>-0.050000</td>\n",
              "      <td>0.500000</td>\n",
              "      <td>0.150000</td>\n",
              "      <td>0.500000</td>\n",
              "      <td>0.250000</td>\n",
              "      <td>2800.000000</td>\n",
              "    </tr>\n",
              "    <tr>\n",
              "      <th>max</th>\n",
              "      <td>731.000000</td>\n",
              "      <td>23.000000</td>\n",
              "      <td>8474.000000</td>\n",
              "      <td>701.000000</td>\n",
              "      <td>1042.000000</td>\n",
              "      <td>650.000000</td>\n",
              "      <td>304.000000</td>\n",
              "      <td>116.000000</td>\n",
              "      <td>128.000000</td>\n",
              "      <td>91.000000</td>\n",
              "      <td>...</td>\n",
              "      <td>1.000000</td>\n",
              "      <td>1.000000</td>\n",
              "      <td>0.000000</td>\n",
              "      <td>0.000000</td>\n",
              "      <td>0.000000</td>\n",
              "      <td>1.000000</td>\n",
              "      <td>1.000000</td>\n",
              "      <td>0.500000</td>\n",
              "      <td>1.000000</td>\n",
              "      <td>843300.000000</td>\n",
              "    </tr>\n",
              "  </tbody>\n",
              "</table>\n",
              "<p>8 rows × 60 columns</p>\n",
              "</div>\n",
              "    <div class=\"colab-df-buttons\">\n",
              "\n",
              "  <div class=\"colab-df-container\">\n",
              "    <button class=\"colab-df-convert\" onclick=\"convertToInteractive('df-631f03f5-5ce2-4697-b911-2bc9a81f4fa4')\"\n",
              "            title=\"Convert this dataframe to an interactive table.\"\n",
              "            style=\"display:none;\">\n",
              "\n",
              "  <svg xmlns=\"http://www.w3.org/2000/svg\" height=\"24px\" viewBox=\"0 -960 960 960\">\n",
              "    <path d=\"M120-120v-720h720v720H120Zm60-500h600v-160H180v160Zm220 220h160v-160H400v160Zm0 220h160v-160H400v160ZM180-400h160v-160H180v160Zm440 0h160v-160H620v160ZM180-180h160v-160H180v160Zm440 0h160v-160H620v160Z\"/>\n",
              "  </svg>\n",
              "    </button>\n",
              "\n",
              "  <style>\n",
              "    .colab-df-container {\n",
              "      display:flex;\n",
              "      gap: 12px;\n",
              "    }\n",
              "\n",
              "    .colab-df-convert {\n",
              "      background-color: #E8F0FE;\n",
              "      border: none;\n",
              "      border-radius: 50%;\n",
              "      cursor: pointer;\n",
              "      display: none;\n",
              "      fill: #1967D2;\n",
              "      height: 32px;\n",
              "      padding: 0 0 0 0;\n",
              "      width: 32px;\n",
              "    }\n",
              "\n",
              "    .colab-df-convert:hover {\n",
              "      background-color: #E2EBFA;\n",
              "      box-shadow: 0px 1px 2px rgba(60, 64, 67, 0.3), 0px 1px 3px 1px rgba(60, 64, 67, 0.15);\n",
              "      fill: #174EA6;\n",
              "    }\n",
              "\n",
              "    .colab-df-buttons div {\n",
              "      margin-bottom: 4px;\n",
              "    }\n",
              "\n",
              "    [theme=dark] .colab-df-convert {\n",
              "      background-color: #3B4455;\n",
              "      fill: #D2E3FC;\n",
              "    }\n",
              "\n",
              "    [theme=dark] .colab-df-convert:hover {\n",
              "      background-color: #434B5C;\n",
              "      box-shadow: 0px 1px 3px 1px rgba(0, 0, 0, 0.15);\n",
              "      filter: drop-shadow(0px 1px 2px rgba(0, 0, 0, 0.3));\n",
              "      fill: #FFFFFF;\n",
              "    }\n",
              "  </style>\n",
              "\n",
              "    <script>\n",
              "      const buttonEl =\n",
              "        document.querySelector('#df-631f03f5-5ce2-4697-b911-2bc9a81f4fa4 button.colab-df-convert');\n",
              "      buttonEl.style.display =\n",
              "        google.colab.kernel.accessAllowed ? 'block' : 'none';\n",
              "\n",
              "      async function convertToInteractive(key) {\n",
              "        const element = document.querySelector('#df-631f03f5-5ce2-4697-b911-2bc9a81f4fa4');\n",
              "        const dataTable =\n",
              "          await google.colab.kernel.invokeFunction('convertToInteractive',\n",
              "                                                    [key], {});\n",
              "        if (!dataTable) return;\n",
              "\n",
              "        const docLinkHtml = 'Like what you see? Visit the ' +\n",
              "          '<a target=\"_blank\" href=https://colab.research.google.com/notebooks/data_table.ipynb>data table notebook</a>'\n",
              "          + ' to learn more about interactive tables.';\n",
              "        element.innerHTML = '';\n",
              "        dataTable['output_type'] = 'display_data';\n",
              "        await google.colab.output.renderOutput(dataTable, element);\n",
              "        const docLink = document.createElement('div');\n",
              "        docLink.innerHTML = docLinkHtml;\n",
              "        element.appendChild(docLink);\n",
              "      }\n",
              "    </script>\n",
              "  </div>\n",
              "\n",
              "\n",
              "<div id=\"df-7042eb8f-0767-491e-8a91-fc3b9cd3bed7\">\n",
              "  <button class=\"colab-df-quickchart\" onclick=\"quickchart('df-7042eb8f-0767-491e-8a91-fc3b9cd3bed7')\"\n",
              "            title=\"Suggest charts\"\n",
              "            style=\"display:none;\">\n",
              "\n",
              "<svg xmlns=\"http://www.w3.org/2000/svg\" height=\"24px\"viewBox=\"0 0 24 24\"\n",
              "     width=\"24px\">\n",
              "    <g>\n",
              "        <path d=\"M19 3H5c-1.1 0-2 .9-2 2v14c0 1.1.9 2 2 2h14c1.1 0 2-.9 2-2V5c0-1.1-.9-2-2-2zM9 17H7v-7h2v7zm4 0h-2V7h2v10zm4 0h-2v-4h2v4z\"/>\n",
              "    </g>\n",
              "</svg>\n",
              "  </button>\n",
              "\n",
              "<style>\n",
              "  .colab-df-quickchart {\n",
              "      --bg-color: #E8F0FE;\n",
              "      --fill-color: #1967D2;\n",
              "      --hover-bg-color: #E2EBFA;\n",
              "      --hover-fill-color: #174EA6;\n",
              "      --disabled-fill-color: #AAA;\n",
              "      --disabled-bg-color: #DDD;\n",
              "  }\n",
              "\n",
              "  [theme=dark] .colab-df-quickchart {\n",
              "      --bg-color: #3B4455;\n",
              "      --fill-color: #D2E3FC;\n",
              "      --hover-bg-color: #434B5C;\n",
              "      --hover-fill-color: #FFFFFF;\n",
              "      --disabled-bg-color: #3B4455;\n",
              "      --disabled-fill-color: #666;\n",
              "  }\n",
              "\n",
              "  .colab-df-quickchart {\n",
              "    background-color: var(--bg-color);\n",
              "    border: none;\n",
              "    border-radius: 50%;\n",
              "    cursor: pointer;\n",
              "    display: none;\n",
              "    fill: var(--fill-color);\n",
              "    height: 32px;\n",
              "    padding: 0;\n",
              "    width: 32px;\n",
              "  }\n",
              "\n",
              "  .colab-df-quickchart:hover {\n",
              "    background-color: var(--hover-bg-color);\n",
              "    box-shadow: 0 1px 2px rgba(60, 64, 67, 0.3), 0 1px 3px 1px rgba(60, 64, 67, 0.15);\n",
              "    fill: var(--button-hover-fill-color);\n",
              "  }\n",
              "\n",
              "  .colab-df-quickchart-complete:disabled,\n",
              "  .colab-df-quickchart-complete:disabled:hover {\n",
              "    background-color: var(--disabled-bg-color);\n",
              "    fill: var(--disabled-fill-color);\n",
              "    box-shadow: none;\n",
              "  }\n",
              "\n",
              "  .colab-df-spinner {\n",
              "    border: 2px solid var(--fill-color);\n",
              "    border-color: transparent;\n",
              "    border-bottom-color: var(--fill-color);\n",
              "    animation:\n",
              "      spin 1s steps(1) infinite;\n",
              "  }\n",
              "\n",
              "  @keyframes spin {\n",
              "    0% {\n",
              "      border-color: transparent;\n",
              "      border-bottom-color: var(--fill-color);\n",
              "      border-left-color: var(--fill-color);\n",
              "    }\n",
              "    20% {\n",
              "      border-color: transparent;\n",
              "      border-left-color: var(--fill-color);\n",
              "      border-top-color: var(--fill-color);\n",
              "    }\n",
              "    30% {\n",
              "      border-color: transparent;\n",
              "      border-left-color: var(--fill-color);\n",
              "      border-top-color: var(--fill-color);\n",
              "      border-right-color: var(--fill-color);\n",
              "    }\n",
              "    40% {\n",
              "      border-color: transparent;\n",
              "      border-right-color: var(--fill-color);\n",
              "      border-top-color: var(--fill-color);\n",
              "    }\n",
              "    60% {\n",
              "      border-color: transparent;\n",
              "      border-right-color: var(--fill-color);\n",
              "    }\n",
              "    80% {\n",
              "      border-color: transparent;\n",
              "      border-right-color: var(--fill-color);\n",
              "      border-bottom-color: var(--fill-color);\n",
              "    }\n",
              "    90% {\n",
              "      border-color: transparent;\n",
              "      border-bottom-color: var(--fill-color);\n",
              "    }\n",
              "  }\n",
              "</style>\n",
              "\n",
              "  <script>\n",
              "    async function quickchart(key) {\n",
              "      const quickchartButtonEl =\n",
              "        document.querySelector('#' + key + ' button');\n",
              "      quickchartButtonEl.disabled = true;  // To prevent multiple clicks.\n",
              "      quickchartButtonEl.classList.add('colab-df-spinner');\n",
              "      try {\n",
              "        const charts = await google.colab.kernel.invokeFunction(\n",
              "            'suggestCharts', [key], {});\n",
              "      } catch (error) {\n",
              "        console.error('Error during call to suggestCharts:', error);\n",
              "      }\n",
              "      quickchartButtonEl.classList.remove('colab-df-spinner');\n",
              "      quickchartButtonEl.classList.add('colab-df-quickchart-complete');\n",
              "    }\n",
              "    (() => {\n",
              "      let quickchartButtonEl =\n",
              "        document.querySelector('#df-7042eb8f-0767-491e-8a91-fc3b9cd3bed7 button');\n",
              "      quickchartButtonEl.style.display =\n",
              "        google.colab.kernel.accessAllowed ? 'block' : 'none';\n",
              "    })();\n",
              "  </script>\n",
              "</div>\n",
              "    </div>\n",
              "  </div>\n"
            ]
          },
          "metadata": {},
          "execution_count": 8
        }
      ]
    },
    {
      "cell_type": "code",
      "source": [
        "onpdata.info()"
      ],
      "metadata": {
        "colab": {
          "base_uri": "https://localhost:8080/"
        },
        "id": "C_AefwvSb1Tk",
        "outputId": "bf13aadd-1431-4be6-cfe6-286542968d71"
      },
      "execution_count": 9,
      "outputs": [
        {
          "output_type": "stream",
          "name": "stdout",
          "text": [
            "<class 'pandas.core.frame.DataFrame'>\n",
            "RangeIndex: 39644 entries, 0 to 39643\n",
            "Data columns (total 61 columns):\n",
            " #   Column                          Non-Null Count  Dtype  \n",
            "---  ------                          --------------  -----  \n",
            " 0   url                             39644 non-null  object \n",
            " 1    timedelta                      39644 non-null  float64\n",
            " 2    n_tokens_title                 39644 non-null  float64\n",
            " 3    n_tokens_content               39644 non-null  float64\n",
            " 4    n_unique_tokens                39644 non-null  float64\n",
            " 5    n_non_stop_words               39644 non-null  float64\n",
            " 6    n_non_stop_unique_tokens       39644 non-null  float64\n",
            " 7    num_hrefs                      39644 non-null  float64\n",
            " 8    num_self_hrefs                 39644 non-null  float64\n",
            " 9    num_imgs                       39644 non-null  float64\n",
            " 10   num_videos                     39644 non-null  float64\n",
            " 11   average_token_length           39644 non-null  float64\n",
            " 12   num_keywords                   39644 non-null  float64\n",
            " 13   data_channel_is_lifestyle      39644 non-null  float64\n",
            " 14   data_channel_is_entertainment  39644 non-null  float64\n",
            " 15   data_channel_is_bus            39644 non-null  float64\n",
            " 16   data_channel_is_socmed         39644 non-null  float64\n",
            " 17   data_channel_is_tech           39644 non-null  float64\n",
            " 18   data_channel_is_world          39644 non-null  float64\n",
            " 19   kw_min_min                     39644 non-null  float64\n",
            " 20   kw_max_min                     39644 non-null  float64\n",
            " 21   kw_avg_min                     39644 non-null  float64\n",
            " 22   kw_min_max                     39644 non-null  float64\n",
            " 23   kw_max_max                     39644 non-null  float64\n",
            " 24   kw_avg_max                     39644 non-null  float64\n",
            " 25   kw_min_avg                     39644 non-null  float64\n",
            " 26   kw_max_avg                     39644 non-null  float64\n",
            " 27   kw_avg_avg                     39644 non-null  float64\n",
            " 28   self_reference_min_shares      39644 non-null  float64\n",
            " 29   self_reference_max_shares      39644 non-null  float64\n",
            " 30   self_reference_avg_sharess     39644 non-null  float64\n",
            " 31   weekday_is_monday              39644 non-null  float64\n",
            " 32   weekday_is_tuesday             39644 non-null  float64\n",
            " 33   weekday_is_wednesday           39644 non-null  float64\n",
            " 34   weekday_is_thursday            39644 non-null  float64\n",
            " 35   weekday_is_friday              39644 non-null  float64\n",
            " 36   weekday_is_saturday            39644 non-null  float64\n",
            " 37   weekday_is_sunday              39644 non-null  float64\n",
            " 38   is_weekend                     39644 non-null  float64\n",
            " 39   LDA_00                         39644 non-null  float64\n",
            " 40   LDA_01                         39644 non-null  float64\n",
            " 41   LDA_02                         39644 non-null  float64\n",
            " 42   LDA_03                         39644 non-null  float64\n",
            " 43   LDA_04                         39644 non-null  float64\n",
            " 44   global_subjectivity            39644 non-null  float64\n",
            " 45   global_sentiment_polarity      39644 non-null  float64\n",
            " 46   global_rate_positive_words     39644 non-null  float64\n",
            " 47   global_rate_negative_words     39644 non-null  float64\n",
            " 48   rate_positive_words            39644 non-null  float64\n",
            " 49   rate_negative_words            39644 non-null  float64\n",
            " 50   avg_positive_polarity          39644 non-null  float64\n",
            " 51   min_positive_polarity          39644 non-null  float64\n",
            " 52   max_positive_polarity          39644 non-null  float64\n",
            " 53   avg_negative_polarity          39644 non-null  float64\n",
            " 54   min_negative_polarity          39644 non-null  float64\n",
            " 55   max_negative_polarity          39644 non-null  float64\n",
            " 56   title_subjectivity             39644 non-null  float64\n",
            " 57   title_sentiment_polarity       39644 non-null  float64\n",
            " 58   abs_title_subjectivity         39644 non-null  float64\n",
            " 59   abs_title_sentiment_polarity   39644 non-null  float64\n",
            " 60   shares                         39644 non-null  int64  \n",
            "dtypes: float64(59), int64(1), object(1)\n",
            "memory usage: 18.5+ MB\n"
          ]
        }
      ]
    },
    {
      "cell_type": "markdown",
      "source": [],
      "metadata": {
        "id": "G75WOvt4b1lw"
      }
    },
    {
      "cell_type": "code",
      "source": [],
      "metadata": {
        "id": "B2zTQpPNhdBo"
      },
      "execution_count": 6,
      "outputs": []
    },
    {
      "cell_type": "markdown",
      "source": [
        "# Removing data\n"
      ],
      "metadata": {
        "id": "kV8_jRtSb2f1"
      }
    },
    {
      "cell_type": "code",
      "source": [
        "mv=onpdata.isna().sum()\n",
        "mv[n>0]"
      ],
      "metadata": {
        "colab": {
          "base_uri": "https://localhost:8080/"
        },
        "id": "ix3X52bjqbR8",
        "outputId": "a88db5db-028a-44fb-c5da-a2812cf7d4dd"
      },
      "execution_count": 11,
      "outputs": [
        {
          "output_type": "execute_result",
          "data": {
            "text/plain": [
              "Series([], dtype: int64)"
            ]
          },
          "metadata": {},
          "execution_count": 11
        }
      ]
    },
    {
      "cell_type": "markdown",
      "source": [
        "Now we remove all arcticles with no words(empty)\n",
        "\n",
        "word count = 0"
      ],
      "metadata": {
        "id": "fwp08LZirb7T"
      }
    },
    {
      "cell_type": "code",
      "source": [
        "onpdata.columns=onpdata.columns.str.replace(\" \",\"\")"
      ],
      "metadata": {
        "id": "BoFbocJoq3Bg"
      },
      "execution_count": 13,
      "outputs": []
    },
    {
      "cell_type": "code",
      "source": [
        "\n",
        "num_of_nowords=onpdata[onpdata['n_tokens_content']==0].index\n",
        "print('amount of news articles with no words',num_of_nowords.size)\n",
        "\n",
        "\n",
        "onpdata = onpdata[onpdata['n_tokens_content'] != 0]"
      ],
      "metadata": {
        "colab": {
          "base_uri": "https://localhost:8080/"
        },
        "id": "vD1SJYLHq6En",
        "outputId": "2a937651-08de-4bd3-cd28-339e19594402"
      },
      "execution_count": 15,
      "outputs": [
        {
          "output_type": "stream",
          "name": "stdout",
          "text": [
            "amount of news articles with no words 0\n"
          ]
        }
      ]
    },
    {
      "cell_type": "markdown",
      "source": [
        "removing of not predictve features"
      ],
      "metadata": {
        "id": "otO8jrk1sAwL"
      }
    },
    {
      "cell_type": "code",
      "source": [
        "onpdata = onpdata.drop('url',axis=1)\n",
        "onpdata = onpdata.drop('timedelta',axis=1)\n",
        "onpdata = onpdata.drop([\"n_non_stop_unique_tokens\",\"n_non_stop_words\",\"kw_avg_min\"],axis=1)"
      ],
      "metadata": {
        "id": "4vrHNgbBr_8f"
      },
      "execution_count": 16,
      "outputs": []
    },
    {
      "cell_type": "code",
      "source": [],
      "metadata": {
        "id": "khvyhplZxtDQ"
      },
      "execution_count": 17,
      "outputs": []
    },
    {
      "cell_type": "markdown",
      "source": [
        "# Target value"
      ],
      "metadata": {
        "id": "foX-Kav_yHYr"
      }
    },
    {
      "cell_type": "code",
      "source": [
        "onpdata['shares'].describe()"
      ],
      "metadata": {
        "colab": {
          "base_uri": "https://localhost:8080/"
        },
        "id": "SL3QAtwAzJ7y",
        "outputId": "605b08d7-8575-42bf-ac12-22292aeb3643"
      },
      "execution_count": 18,
      "outputs": [
        {
          "output_type": "execute_result",
          "data": {
            "text/plain": [
              "count     38463.000000\n",
              "mean       3355.360398\n",
              "std       11585.968776\n",
              "min           1.000000\n",
              "25%         945.000000\n",
              "50%        1400.000000\n",
              "75%        2700.000000\n",
              "max      843300.000000\n",
              "Name: shares, dtype: float64"
            ]
          },
          "metadata": {},
          "execution_count": 18
        }
      ]
    },
    {
      "cell_type": "code",
      "source": [
        "#target label\n",
        "target_variable = list()\n",
        "for share in onpdata['shares']:\n",
        "    if share > 2700:\n",
        "        target_variable.append('Popular')\n",
        "    elif share <= 2700:\n",
        "        target_variable.append('Unpopular')\n",
        "\n",
        "# Update target label into the dataframe\n",
        "onpdata = pd.concat([onpdata.reset_index(drop=True), pd.DataFrame(target_variable, columns=['popularity'])], axis=1)"
      ],
      "metadata": {
        "id": "rFfVXC1izNHy"
      },
      "execution_count": 20,
      "outputs": []
    },
    {
      "cell_type": "code",
      "source": [
        "count = Counter(onpdata['popularity'])"
      ],
      "metadata": {
        "id": "p0JyVutb0uJa"
      },
      "execution_count": 21,
      "outputs": []
    },
    {
      "cell_type": "code",
      "source": [
        "count"
      ],
      "metadata": {
        "colab": {
          "base_uri": "https://localhost:8080/"
        },
        "id": "MT0unWKl07OV",
        "outputId": "9f7857af-a6e1-44a8-fa43-2686b39cfefb"
      },
      "execution_count": 22,
      "outputs": [
        {
          "output_type": "execute_result",
          "data": {
            "text/plain": [
              "Counter({'Unpopular': 28866, 'Popular': 9597})"
            ]
          },
          "metadata": {},
          "execution_count": 22
        }
      ]
    },
    {
      "cell_type": "markdown",
      "source": [],
      "metadata": {
        "id": "-1jZMpSI3PgQ"
      }
    },
    {
      "cell_type": "markdown",
      "source": [
        "# scaling the data"
      ],
      "metadata": {
        "id": "g07P-n8K1veB"
      }
    },
    {
      "cell_type": "markdown",
      "source": [
        "log transform"
      ],
      "metadata": {
        "id": "Y2V1RExY8mF8"
      }
    },
    {
      "cell_type": "code",
      "source": [
        "og_data = copy(onpdata)\n",
        "sns.displot(og_data['average_token_length'], kde=True);"
      ],
      "metadata": {
        "colab": {
          "base_uri": "https://localhost:8080/",
          "height": 506
        },
        "id": "YILrXCOL3R1F",
        "outputId": "9aa03e0a-8608-4d14-8039-4ffdb97c72be"
      },
      "execution_count": 26,
      "outputs": [
        {
          "output_type": "display_data",
          "data": {
            "text/plain": [
              "<Figure size 500x500 with 1 Axes>"
            ],
            "image/png": "[encoded data removed]"
          },
          "metadata": {}
        }
      ]
    },
    {
      "cell_type": "code",
      "source": [
        "for col in onpdata.iloc[:,:-1].columns:\n",
        "    temp = onpdata[onpdata[col] == 0]\n",
        "    if temp.shape[0] == 0:\n",
        "        onpdata[col] = np.log(onpdata[col])"
      ],
      "metadata": {
        "id": "XBSzADxY3cMp"
      },
      "execution_count": 28,
      "outputs": []
    },
    {
      "cell_type": "markdown",
      "source": [
        "feature scaling"
      ],
      "metadata": {
        "id": "I97ySMOS8dKn"
      }
    },
    {
      "cell_type": "code",
      "source": [
        "from sklearn.preprocessing import RobustScaler\n",
        "scaler = RobustScaler()\n",
        "\n",
        "\n",
        "scaled_data = scaler.fit_transform(onpdata.iloc[:, :-2])\n",
        "onpdata.iloc[:, :-2] = scaled_data"
      ],
      "metadata": {
        "id": "CB6cCBET8QBZ"
      },
      "execution_count": 31,
      "outputs": []
    },
    {
      "cell_type": "code",
      "source": [],
      "metadata": {
        "id": "VTkn57Zb8i_Q"
      },
      "execution_count": null,
      "outputs": []
    },
    {
      "cell_type": "markdown",
      "source": [
        "# Dim reduction"
      ],
      "metadata": {
        "id": "O7aXUqad8sXG"
      }
    },
    {
      "cell_type": "markdown",
      "source": [
        "we try pca and t-SNE\n",
        "\n",
        "first pca"
      ],
      "metadata": {
        "id": "E30qnhXW82AA"
      }
    },
    {
      "cell_type": "code",
      "source": [
        "from sklearn.manifold import TSNE\n",
        "pca = PCA(n_components=2)\n",
        "onpdata_reduced = pca.fit_transform(onpdata.iloc[:,:-2])\n",
        "onpdata_reduced.shape"
      ],
      "metadata": {
        "colab": {
          "base_uri": "https://localhost:8080/"
        },
        "id": "C0fGRqDM8vIw",
        "outputId": "c130ce63-5c86-4d04-fe0a-ba7aa66a2e14"
      },
      "execution_count": 34,
      "outputs": [
        {
          "output_type": "execute_result",
          "data": {
            "text/plain": [
              "(38463, 2)"
            ]
          },
          "metadata": {},
          "execution_count": 34
        }
      ]
    },
    {
      "cell_type": "code",
      "source": [
        "plt.figure(figsize=(5,5))\n",
        "plt.plot(onpdata_reduced[:,0], onpdata_reduced[:,1], 'b.')\n",
        "plt.title('PCA Transformation')\n",
        "\n",
        "plt.show()"
      ],
      "metadata": {
        "colab": {
          "base_uri": "https://localhost:8080/",
          "height": 468
        },
        "id": "6tBFmiqu8_U1",
        "outputId": "30c24914-004d-435b-fb2e-b36da5950b82"
      },
      "execution_count": 33,
      "outputs": [
        {
          "output_type": "display_data",
          "data": {
            "text/plain": [
              "<Figure size 500x500 with 1 Axes>"
            ],
            "image/png": "[encoded data removed]"
          },
          "metadata": {}
        }
      ]
    },
    {
      "cell_type": "markdown",
      "source": [
        "now t sne"
      ],
      "metadata": {
        "id": "9sxp1c1C8uOW"
      }
    },
    {
      "cell_type": "code",
      "source": [
        "tsne = TSNE(n_components=2, n_iter=300, random_state=42)\n",
        "red_tsne = tsne.fit_transform(onpdata.iloc[:,:-2])"
      ],
      "metadata": {
        "id": "RJ2Cd2go9KO9"
      },
      "execution_count": 39,
      "outputs": []
    },
    {
      "cell_type": "code",
      "source": [
        "plt.figure(figsize=(5,5))\n",
        "plt.plot(red_tsne[:,0], red_tsne[:,1], 'b.')\n",
        "plt.title('TSNE')\n",
        "plt.show()"
      ],
      "metadata": {
        "colab": {
          "base_uri": "https://localhost:8080/",
          "height": 468
        },
        "id": "vd2mNTU29kKA",
        "outputId": "93b5d1f9-d2f8-48ae-e4e1-1685b16bfd70"
      },
      "execution_count": 40,
      "outputs": [
        {
          "output_type": "display_data",
          "data": {
            "text/plain": [
              "<Figure size 500x500 with 1 Axes>"
            ],
            "image/png": "[encoded data removed]"
          },
          "metadata": {}
        }
      ]
    },
    {
      "cell_type": "markdown",
      "source": [
        "# Clustering articles"
      ],
      "metadata": {
        "id": "ddVL5QZB-ziY"
      }
    },
    {
      "cell_type": "code",
      "source": [
        "k=list(range(1,9))\n",
        "ssd=[]\n",
        "for i in k:\n",
        "    kmeans=KMeans(n_clusters=i).fit(red_tsne)\n",
        "    ssd.append(kmeans.inertia_)\n",
        "\n",
        "plt.plot(k,ssd,'o-')\n",
        "plt.xlabel('k')\n",
        "plt.ylabel('Sum of squared error')\n",
        "plt.show()"
      ],
      "metadata": {
        "colab": {
          "base_uri": "https://localhost:8080/",
          "height": 771
        },
        "id": "tMm8LhKK-5u9",
        "outputId": "03db94ac-7e04-4368-e8f2-c1c35982ea41"
      },
      "execution_count": 41,
      "outputs": [
        {
          "output_type": "stream",
          "name": "stderr",
          "text": [
            "/usr/local/lib/python3.10/dist-packages/sklearn/cluster/_kmeans.py:870: FutureWarning: The default value of `n_init` will change from 10 to 'auto' in 1.4. Set the value of `n_init` explicitly to suppress the warning\n",
            "  warnings.warn(\n",
            "/usr/local/lib/python3.10/dist-packages/sklearn/cluster/_kmeans.py:870: FutureWarning: The default value of `n_init` will change from 10 to 'auto' in 1.4. Set the value of `n_init` explicitly to suppress the warning\n",
            "  warnings.warn(\n",
            "/usr/local/lib/python3.10/dist-packages/sklearn/cluster/_kmeans.py:870: FutureWarning: The default value of `n_init` will change from 10 to 'auto' in 1.4. Set the value of `n_init` explicitly to suppress the warning\n",
            "  warnings.warn(\n",
            "/usr/local/lib/python3.10/dist-packages/sklearn/cluster/_kmeans.py:870: FutureWarning: The default value of `n_init` will change from 10 to 'auto' in 1.4. Set the value of `n_init` explicitly to suppress the warning\n",
            "  warnings.warn(\n",
            "/usr/local/lib/python3.10/dist-packages/sklearn/cluster/_kmeans.py:870: FutureWarning: The default value of `n_init` will change from 10 to 'auto' in 1.4. Set the value of `n_init` explicitly to suppress the warning\n",
            "  warnings.warn(\n",
            "/usr/local/lib/python3.10/dist-packages/sklearn/cluster/_kmeans.py:870: FutureWarning: The default value of `n_init` will change from 10 to 'auto' in 1.4. Set the value of `n_init` explicitly to suppress the warning\n",
            "  warnings.warn(\n",
            "/usr/local/lib/python3.10/dist-packages/sklearn/cluster/_kmeans.py:870: FutureWarning: The default value of `n_init` will change from 10 to 'auto' in 1.4. Set the value of `n_init` explicitly to suppress the warning\n",
            "  warnings.warn(\n",
            "/usr/local/lib/python3.10/dist-packages/sklearn/cluster/_kmeans.py:870: FutureWarning: The default value of `n_init` will change from 10 to 'auto' in 1.4. Set the value of `n_init` explicitly to suppress the warning\n",
            "  warnings.warn(\n"
          ]
        },
        {
          "output_type": "display_data",
          "data": {
            "text/plain": [
              "<Figure size 640x480 with 1 Axes>"
            ],
            "image/png": "[encoded data removed]"
          },
          "metadata": {}
        }
      ]
    },
    {
      "cell_type": "code",
      "source": [
        "kmeans=KMeans(init='k-means++',n_clusters=4)\n",
        "kmeans.fit(red_tsne)\n",
        "kmeans_preds=kmeans.predict(red_tsne)"
      ],
      "metadata": {
        "colab": {
          "base_uri": "https://localhost:8080/"
        },
        "id": "n5YtV-zqBKjf",
        "outputId": "4848bd31-c807-4f19-f4b9-fe72e00b2de0"
      },
      "execution_count": 42,
      "outputs": [
        {
          "output_type": "stream",
          "name": "stderr",
          "text": [
            "/usr/local/lib/python3.10/dist-packages/sklearn/cluster/_kmeans.py:870: FutureWarning: The default value of `n_init` will change from 10 to 'auto' in 1.4. Set the value of `n_init` explicitly to suppress the warning\n",
            "  warnings.warn(\n"
          ]
        }
      ]
    },
    {
      "cell_type": "code",
      "source": [
        "plt.scatter(red_tsne[:,0],red_tsne[:,1],c=kmeans_preds,cmap='rainbow')\n",
        "plt.title('Clusters')\n",
        "plt.show()"
      ],
      "metadata": {
        "colab": {
          "base_uri": "https://localhost:8080/",
          "height": 452
        },
        "id": "R2HUBL1VBWOm",
        "outputId": "b3156972-d623-4f69-f8b4-fb0a0759688d"
      },
      "execution_count": 46,
      "outputs": [
        {
          "output_type": "display_data",
          "data": {
            "text/plain": [
              "<Figure size 640x480 with 1 Axes>"
            ],
            "image/png": "[encoded data removed]"
          },
          "metadata": {}
        }
      ]
    },
    {
      "cell_type": "code",
      "source": [
        "cluster_d=pd.concat([onpdata.reset_index(drop=True), pd.DataFrame(kmeans_preds, columns=['cluster'])],axis=1)"
      ],
      "metadata": {
        "id": "aZnLU5CLCqMM"
      },
      "execution_count": 50,
      "outputs": []
    },
    {
      "cell_type": "code",
      "source": [
        "#creating new datasets from the clusters\n",
        "cluster1 = cluster_d[cluster_d['cluster'] == 0]\n",
        "cluster2 = cluster_d[cluster_d['cluster'] == 1]\n",
        "cluster3 = cluster_d[cluster_d['cluster'] == 2]\n",
        "cluster4 = cluster_d[cluster_d['cluster'] == 3]\n",
        "print ('Cluster1 size: ',cluster1.shape)\n",
        "print ('Cluster2 size: ',cluster2.shape)\n",
        "print ('Cluster3 size: ',cluster3.shape)\n",
        "print ('Cluster4 size: ',cluster4.shape)"
      ],
      "metadata": {
        "colab": {
          "base_uri": "https://localhost:8080/"
        },
        "id": "fQg0P1FJBdWy",
        "outputId": "b8283cd5-992d-4110-e131-9cef5c3d45fc"
      },
      "execution_count": 52,
      "outputs": [
        {
          "output_type": "stream",
          "name": "stdout",
          "text": [
            "Cluster1 size:  (9365, 58)\n",
            "Cluster2 size:  (8596, 58)\n",
            "Cluster3 size:  (10598, 58)\n",
            "Cluster4 size:  (9904, 58)\n"
          ]
        }
      ]
    },
    {
      "cell_type": "code",
      "source": [
        "from collections import Counter\n",
        "\n",
        "#Cluster 1\n",
        "X1 = cluster1.iloc[:, :-3]\n",
        "y1 = cluster1.iloc[:, -2]\n",
        "counter = Counter(y1)\n",
        "print(counter)\n",
        "\n",
        "#Cluster 2\n",
        "X2 = cluster2.iloc[:, :-3]\n",
        "y2 = cluster2.iloc[:, -2]\n",
        "counter = Counter(y2)\n",
        "print(counter)\n",
        "\n",
        "#Cluster 3\n",
        "X3 = cluster3.iloc[:, :-3]\n",
        "y3 = cluster3.iloc[:, -2]\n",
        "counter = Counter(y3)\n",
        "print(counter)\n",
        "\n",
        "#Cluster 4\n",
        "X4 = cluster4.iloc[:, :-3]\n",
        "y4 = cluster4.iloc[:, -2]\n",
        "counter = Counter(y4)\n",
        "print(counter)"
      ],
      "metadata": {
        "colab": {
          "base_uri": "https://localhost:8080/"
        },
        "id": "zjy198WPDLjn",
        "outputId": "71f65f2c-de6a-4673-c5ec-609bea94cc83"
      },
      "execution_count": 55,
      "outputs": [
        {
          "output_type": "stream",
          "name": "stdout",
          "text": [
            "Counter({'Unpopular': 7011, 'Popular': 2354})\n",
            "Counter({'Unpopular': 5710, 'Popular': 2886})\n",
            "Counter({'Unpopular': 8868, 'Popular': 1730})\n",
            "Counter({'Unpopular': 7277, 'Popular': 2627})\n"
          ]
        }
      ]
    },
    {
      "cell_type": "markdown",
      "source": [
        "# Balancing data set"
      ],
      "metadata": {
        "id": "etDSBYB9-6A5"
      }
    },
    {
      "cell_type": "code",
      "source": [
        "!pip install imblearn==0.0\n",
        "\n",
        "from imblearn.over_sampling import SMOTE\n",
        "from matplotlib import pyplot\n",
        "from numpy import where"
      ],
      "metadata": {
        "colab": {
          "base_uri": "https://localhost:8080/"
        },
        "id": "Ztt22G9D-9XJ",
        "outputId": "609fc567-314c-412b-94d7-9556e5233d43"
      },
      "execution_count": 56,
      "outputs": [
        {
          "output_type": "stream",
          "name": "stdout",
          "text": [
            "Requirement already satisfied: imblearn==0.0 in /usr/local/lib/python3.10/dist-packages (0.0)\n",
            "Requirement already satisfied: imbalanced-learn in /usr/local/lib/python3.10/dist-packages (from imblearn==0.0) (0.10.1)\n",
            "Requirement already satisfied: numpy>=1.17.3 in /usr/local/lib/python3.10/dist-packages (from imbalanced-learn->imblearn==0.0) (1.23.5)\n",
            "Requirement already satisfied: scipy>=1.3.2 in /usr/local/lib/python3.10/dist-packages (from imbalanced-learn->imblearn==0.0) (1.11.4)\n",
            "Requirement already satisfied: scikit-learn>=1.0.2 in /usr/local/lib/python3.10/dist-packages (from imbalanced-learn->imblearn==0.0) (1.2.2)\n",
            "Requirement already satisfied: joblib>=1.1.1 in /usr/local/lib/python3.10/dist-packages (from imbalanced-learn->imblearn==0.0) (1.3.2)\n",
            "Requirement already satisfied: threadpoolctl>=2.0.0 in /usr/local/lib/python3.10/dist-packages (from imbalanced-learn->imblearn==0.0) (3.2.0)\n"
          ]
        }
      ]
    },
    {
      "cell_type": "code",
      "source": [
        "\n",
        "oversample = SMOTE()\n",
        "\n",
        "\n",
        "X1, y1 = oversample.fit_resample(X1, y1)\n",
        "counter = Counter(y1)\n",
        "print(counter)\n",
        "\n",
        "\n",
        "X2, y2 = oversample.fit_resample(X2, y2)\n",
        "counter = Counter(y2)\n",
        "print(counter)\n",
        "\n",
        "\n",
        "X3, y3 = oversample.fit_resample(X3, y3)\n",
        "counter = Counter(y3)\n",
        "print(counter)\n",
        "\n",
        "\n",
        "X4, y4 = oversample.fit_resample(X4, y4)\n",
        "counter = Counter(y4)\n",
        "print(counter)\n"
      ],
      "metadata": {
        "colab": {
          "base_uri": "https://localhost:8080/"
        },
        "id": "Ksw4ddr1DsBg",
        "outputId": "639bee61-c946-4778-dcce-8d28c4bfab26"
      },
      "execution_count": 57,
      "outputs": [
        {
          "output_type": "stream",
          "name": "stdout",
          "text": [
            "Counter({'Unpopular': 7011, 'Popular': 7011})\n",
            "Counter({'Unpopular': 5710, 'Popular': 5710})\n",
            "Counter({'Popular': 8868, 'Unpopular': 8868})\n",
            "Counter({'Popular': 7277, 'Unpopular': 7277})\n"
          ]
        }
      ]
    },
    {
      "cell_type": "markdown",
      "source": [
        "# Selecting features"
      ],
      "metadata": {
        "id": "9kVzCWpi-9yC"
      }
    },
    {
      "cell_type": "markdown",
      "source": [
        "extract best features"
      ],
      "metadata": {
        "id": "oq_hg5rID_Ke"
      }
    },
    {
      "cell_type": "code",
      "source": [
        "\n",
        "def extract_best_features(feature_scores, feature_col, n=5, sort_metric=False):\n",
        "\n",
        "    temp = np.hstack((feature_scores.reshape(-1,1), feature_col.reshape(-1,1)))\n",
        "    features = pd.DataFrame(temp, columns=['score', 'name'])\n",
        "    features = features.sort_values(by=['score'], ascending=sort_metric).reset_index(drop=True)\n",
        "    best_features = features.iloc[:n, :].to_numpy()\n",
        "    return best_features"
      ],
      "metadata": {
        "id": "OQOz7NHk_DAa"
      },
      "execution_count": 58,
      "outputs": []
    },
    {
      "cell_type": "code",
      "source": [
        "from sklearn.feature_selection import f_classif"
      ],
      "metadata": {
        "id": "2cUA7WKFEE94"
      },
      "execution_count": 61,
      "outputs": []
    },
    {
      "cell_type": "code",
      "source": [
        "\n",
        "# F-value for cluster 1\n",
        "f1 = f_classif(X1, y1)\n",
        "\n",
        "# F-value for cluster 2\n",
        "f2 = f_classif(X2, y2)\n",
        "\n",
        "# F-value for cluster 3\n",
        "f3 = f_classif(X3, y3)\n",
        "\n",
        "# F-value for cluster 4\n",
        "f4 = f_classif(X4, y4)"
      ],
      "metadata": {
        "colab": {
          "base_uri": "https://localhost:8080/"
        },
        "id": "pngBYsQkFOHy",
        "outputId": "9aba8f21-1d22-481c-ea3a-c331a503fe6f"
      },
      "execution_count": 80,
      "outputs": [
        {
          "output_type": "stream",
          "name": "stderr",
          "text": [
            "/usr/local/lib/python3.10/dist-packages/sklearn/feature_selection/_univariate_selection.py:112: UserWarning: Features [18] are constant.\n",
            "  warnings.warn(\"Features %s are constant.\" % constant_features_idx, UserWarning)\n",
            "/usr/local/lib/python3.10/dist-packages/sklearn/feature_selection/_univariate_selection.py:113: RuntimeWarning: invalid value encountered in divide\n",
            "  f = msb / msw\n"
          ]
        }
      ]
    },
    {
      "cell_type": "code",
      "source": [
        "#Extract the 10 best features for cluster 1\n",
        "fv1 = extract_best_features(f1[0], X1.columns.values, n=10)\n",
        "fval_best_features1\n",
        "\n",
        "# plot the best features for cluster 1\n",
        "plt.figure(figsize=(10,5))\n",
        "plt.bar(fv1[:,1], fv1[:,0])\n",
        "plt.xticks(rotation=90)\n",
        "plt.xlabel('Features')\n",
        "plt.ylabel('F-value')\n",
        "plt.title('ANOVA F-value: Best Features for Cluster 1')\n",
        "plt.show()"
      ],
      "metadata": {
        "colab": {
          "base_uri": "https://localhost:8080/",
          "height": 692
        },
        "id": "6tFkcyTXFZ8v",
        "outputId": "b81a0756-cae2-4c45-abc6-8c5935ff4350"
      },
      "execution_count": 81,
      "outputs": [
        {
          "output_type": "display_data",
          "data": {
            "text/plain": [
              "<Figure size 1000x500 with 1 Axes>"
            ],
            "image/png": "[encoded data removed]"
          },
          "metadata": {}
        }
      ]
    },
    {
      "cell_type": "code",
      "source": [
        "#Extract the 10 best features for cluster 2\n",
        "fv2 = extract_best_features(f2[0], X2.columns.values, n=10)"
      ],
      "metadata": {
        "id": "NPj2tEJOF8gh"
      },
      "execution_count": 82,
      "outputs": []
    },
    {
      "cell_type": "code",
      "source": [
        "#Extract the 10 best features for cluster 3\n",
        "fv3 = extract_best_features(f3[0], X3.columns.values, n=10)"
      ],
      "metadata": {
        "id": "6R6NDP_fGOdx"
      },
      "execution_count": 83,
      "outputs": []
    },
    {
      "cell_type": "code",
      "source": [
        "#Extract the 10 best features for cluster 4\n",
        "fv4 = extract_best_features(f4[0], X4.columns.values, n=10)\n"
      ],
      "metadata": {
        "id": "nKSxJm65GZUf"
      },
      "execution_count": 100,
      "outputs": []
    },
    {
      "cell_type": "markdown",
      "source": [
        "Mutual information"
      ],
      "metadata": {
        "id": "ZbOUUqAgHYz5"
      }
    },
    {
      "cell_type": "code",
      "source": [
        "# Mutual Information future selection\n",
        "# the input variable are the numerical features of each article\n",
        "# the target ooutput variable is the categorical label popularity\n",
        "from sklearn.feature_selection import mutual_info_classif\n",
        "\n",
        "# Mutual information for cluster 1\n",
        "m1 = mutual_info_classif(X1, y1)\n",
        "\n",
        "# Mutual information for cluster 2\n",
        "m2 = mutual_info_classif(X2, y2)\n",
        "\n",
        "# Mutual information for cluster 3\n",
        "m3 = mutual_info_classif(X3, y3)\n",
        "\n",
        "# Mutual information for cluster 4\n",
        "m4 = mutual_info_classif(X4, y4)"
      ],
      "metadata": {
        "id": "SYnaLSn5GcD5"
      },
      "execution_count": 101,
      "outputs": []
    },
    {
      "cell_type": "code",
      "source": [
        "#Extract the 10 best features for cluster 1\n",
        "mi1 = extract_best_features(m1, X1.columns.values, n=10)\n",
        "\n",
        "# plot the best features for cluster 1\n",
        "plt.figure(figsize=(10,5))\n",
        "plt.bar(mi1[:,1], mi1[:,0])\n",
        "plt.xticks(rotation=90)\n",
        "plt.xlabel('Features')\n",
        "plt.ylabel('Mutual Information Score')\n",
        "plt.title('MI: Best Features for Cluster 1')\n",
        "plt.show()"
      ],
      "metadata": {
        "colab": {
          "base_uri": "https://localhost:8080/",
          "height": 661
        },
        "id": "HQCyvt_HGh2I",
        "outputId": "2ae0a51c-2103-4fb5-ab89-0de322b0dde7"
      },
      "execution_count": 102,
      "outputs": [
        {
          "output_type": "display_data",
          "data": {
            "text/plain": [
              "<Figure size 1000x500 with 1 Axes>"
            ],
            "image/png": "[encoded data removed]"
          },
          "metadata": {}
        }
      ]
    },
    {
      "cell_type": "code",
      "source": [
        "mi2 = extract_best_features(m2, X2.columns.values, n=10)\n",
        "\n",
        "mi3 = extract_best_features(m3, X3.columns.values, n=10)\n",
        "\n",
        "mi4 = extract_best_features(m4, X4.columns.values, n=10)"
      ],
      "metadata": {
        "id": "j0TUJ7PoHGnW"
      },
      "execution_count": 103,
      "outputs": []
    },
    {
      "cell_type": "markdown",
      "source": [
        "#Analysis of correlation with different features"
      ],
      "metadata": {
        "id": "SFqp2B3419UZ"
      }
    },
    {
      "cell_type": "code",
      "source": [
        "from sklearn.preprocessing import LabelEncoder\n",
        "from sklearn.model_selection import train_test_split\n",
        "from sklearn.metrics import classification_report, confusion_matrix\n",
        "from sklearn.metrics import f1_score\n",
        "from sklearn.linear_model import LogisticRegression"
      ],
      "metadata": {
        "id": "PBci8cvu2G7W"
      },
      "execution_count": 104,
      "outputs": []
    },
    {
      "cell_type": "code",
      "source": [
        "def logistic_regression_news_model(name: str, target_labels, X, fv):\n",
        "\n",
        "    labelEn = LabelEncoder()\n",
        "    target_labels = labelEn.fit_transform(target_labels)\n",
        "\n",
        "    unused_features = list(set(X.columns.values) - set(fv[:,1]))\n",
        "    data_cluster_fval = X.drop(unused_features, axis=1, inplace=False)\n",
        "\n",
        "    X_train_LR, X_test_LR, y_train_LR, y_test_LR = train_test_split(data_cluster_fval, target_labels, test_size=0.3, shuffle=False)\n",
        "\n",
        "    lr = LogisticRegression().fit(X_train_LR, y_train_LR)\n",
        "    y_pred_LR = lr.predict(X_test_LR)\n",
        "\n",
        "    print(f\"{name} - Linear regression Results for ANOVA F-value:\")\n",
        "    print(classification_report(y_test_LR, y_pred_LR))\n",
        "    print(\"Confusion Matrix:\")\n",
        "    print(confusion_matrix(y_test_LR, y_pred_LR))\n",
        "    print(\"\\n\")\n",
        "\n",
        "    return Counter(y_pred_LR), accuracy_score(y_test_LR,y_pred_LR), precision_score(y_test_LR,y_pred_LR), recall_score(y_test_LR,y_pred_LR), f1_score(y_test_LR,y_pred_LR)\n",
        "\n",
        "\n",
        "\n",
        "lr1 = logistic_regression_news_model(\"Cluster 1\", y1.values, X1, fv1)\n",
        "lr2 = logistic_regression_news_model(\"Cluster 2\", y2.values, X2, fv2)\n",
        "lr3 = logistic_regression_news_model(\"Cluster 3\", y3.values, X3, fv3)\n",
        "lr4 = logistic_regression_news_model(\"Cluster 4\", y4.values, X4, fv4)"
      ],
      "metadata": {
        "colab": {
          "base_uri": "https://localhost:8080/"
        },
        "id": "8lkxamIc2J8M",
        "outputId": "a6987bdb-519b-439c-dd93-38a3a69ef43a"
      },
      "execution_count": 114,
      "outputs": [
        {
          "output_type": "stream",
          "name": "stdout",
          "text": [
            "Cluster 1 - Linear regression Results for ANOVA F-value:\n",
            "              precision    recall  f1-score   support\n",
            "\n",
            "           0       1.00      0.04      0.08      4207\n",
            "           1       0.00      0.00      0.00         0\n",
            "\n",
            "    accuracy                           0.04      4207\n",
            "   macro avg       0.50      0.02      0.04      4207\n",
            "weighted avg       1.00      0.04      0.08      4207\n",
            "\n",
            "Confusion Matrix:\n",
            "[[ 174 4033]\n",
            " [   0    0]]\n",
            "\n",
            "\n",
            "Cluster 2 - Linear regression Results for ANOVA F-value:\n",
            "              precision    recall  f1-score   support\n",
            "\n",
            "           0       0.88      0.04      0.08      2984\n",
            "           1       0.13      0.96      0.23       442\n",
            "\n",
            "    accuracy                           0.16      3426\n",
            "   macro avg       0.50      0.50      0.15      3426\n",
            "weighted avg       0.78      0.16      0.10      3426\n",
            "\n",
            "Confusion Matrix:\n",
            "[[ 126 2858]\n",
            " [  18  424]]\n",
            "\n",
            "\n"
          ]
        },
        {
          "output_type": "stream",
          "name": "stderr",
          "text": [
            "/usr/local/lib/python3.10/dist-packages/sklearn/metrics/_classification.py:1344: UndefinedMetricWarning: Recall and F-score are ill-defined and being set to 0.0 in labels with no true samples. Use `zero_division` parameter to control this behavior.\n",
            "  _warn_prf(average, modifier, msg_start, len(result))\n",
            "/usr/local/lib/python3.10/dist-packages/sklearn/metrics/_classification.py:1344: UndefinedMetricWarning: Recall and F-score are ill-defined and being set to 0.0 in labels with no true samples. Use `zero_division` parameter to control this behavior.\n",
            "  _warn_prf(average, modifier, msg_start, len(result))\n",
            "/usr/local/lib/python3.10/dist-packages/sklearn/metrics/_classification.py:1344: UndefinedMetricWarning: Recall and F-score are ill-defined and being set to 0.0 in labels with no true samples. Use `zero_division` parameter to control this behavior.\n",
            "  _warn_prf(average, modifier, msg_start, len(result))\n",
            "/usr/local/lib/python3.10/dist-packages/sklearn/metrics/_classification.py:1344: UndefinedMetricWarning: Recall is ill-defined and being set to 0.0 due to no true samples. Use `zero_division` parameter to control this behavior.\n",
            "  _warn_prf(average, modifier, msg_start, len(result))\n"
          ]
        },
        {
          "output_type": "stream",
          "name": "stdout",
          "text": [
            "Cluster 3 - Linear regression Results for ANOVA F-value:\n",
            "              precision    recall  f1-score   support\n",
            "\n",
            "           0       1.00      0.11      0.20      5321\n",
            "           1       0.00      0.00      0.00         0\n",
            "\n",
            "    accuracy                           0.11      5321\n",
            "   macro avg       0.50      0.06      0.10      5321\n",
            "weighted avg       1.00      0.11      0.20      5321\n",
            "\n",
            "Confusion Matrix:\n",
            "[[ 592 4729]\n",
            " [   0    0]]\n",
            "\n",
            "\n"
          ]
        },
        {
          "output_type": "stream",
          "name": "stderr",
          "text": [
            "/usr/local/lib/python3.10/dist-packages/sklearn/metrics/_classification.py:1344: UndefinedMetricWarning: Recall and F-score are ill-defined and being set to 0.0 in labels with no true samples. Use `zero_division` parameter to control this behavior.\n",
            "  _warn_prf(average, modifier, msg_start, len(result))\n",
            "/usr/local/lib/python3.10/dist-packages/sklearn/metrics/_classification.py:1344: UndefinedMetricWarning: Recall and F-score are ill-defined and being set to 0.0 in labels with no true samples. Use `zero_division` parameter to control this behavior.\n",
            "  _warn_prf(average, modifier, msg_start, len(result))\n",
            "/usr/local/lib/python3.10/dist-packages/sklearn/metrics/_classification.py:1344: UndefinedMetricWarning: Recall and F-score are ill-defined and being set to 0.0 in labels with no true samples. Use `zero_division` parameter to control this behavior.\n",
            "  _warn_prf(average, modifier, msg_start, len(result))\n",
            "/usr/local/lib/python3.10/dist-packages/sklearn/metrics/_classification.py:1344: UndefinedMetricWarning: Recall is ill-defined and being set to 0.0 due to no true samples. Use `zero_division` parameter to control this behavior.\n",
            "  _warn_prf(average, modifier, msg_start, len(result))\n"
          ]
        },
        {
          "output_type": "stream",
          "name": "stdout",
          "text": [
            "Cluster 4 - Linear regression Results for ANOVA F-value:\n",
            "              precision    recall  f1-score   support\n",
            "\n",
            "           0       1.00      0.09      0.17      4367\n",
            "           1       0.00      0.00      0.00         0\n",
            "\n",
            "    accuracy                           0.09      4367\n",
            "   macro avg       0.50      0.05      0.08      4367\n",
            "weighted avg       1.00      0.09      0.17      4367\n",
            "\n",
            "Confusion Matrix:\n",
            "[[ 394 3973]\n",
            " [   0    0]]\n",
            "\n",
            "\n"
          ]
        },
        {
          "output_type": "stream",
          "name": "stderr",
          "text": [
            "/usr/local/lib/python3.10/dist-packages/sklearn/metrics/_classification.py:1344: UndefinedMetricWarning: Recall and F-score are ill-defined and being set to 0.0 in labels with no true samples. Use `zero_division` parameter to control this behavior.\n",
            "  _warn_prf(average, modifier, msg_start, len(result))\n",
            "/usr/local/lib/python3.10/dist-packages/sklearn/metrics/_classification.py:1344: UndefinedMetricWarning: Recall and F-score are ill-defined and being set to 0.0 in labels with no true samples. Use `zero_division` parameter to control this behavior.\n",
            "  _warn_prf(average, modifier, msg_start, len(result))\n",
            "/usr/local/lib/python3.10/dist-packages/sklearn/metrics/_classification.py:1344: UndefinedMetricWarning: Recall and F-score are ill-defined and being set to 0.0 in labels with no true samples. Use `zero_division` parameter to control this behavior.\n",
            "  _warn_prf(average, modifier, msg_start, len(result))\n",
            "/usr/local/lib/python3.10/dist-packages/sklearn/metrics/_classification.py:1344: UndefinedMetricWarning: Recall is ill-defined and being set to 0.0 due to no true samples. Use `zero_division` parameter to control this behavior.\n",
            "  _warn_prf(average, modifier, msg_start, len(result))\n"
          ]
        }
      ]
    },
    {
      "cell_type": "code",
      "source": [
        "labels = ['Cluster 1', 'Cluster 2', 'Cluster 3', 'Cluster 4']\n",
        "\n",
        "p1 = round(lr1[0][0] / (lr1[0][0] + lr1[0][1]), 2)\n",
        "p2 = round(lr2[0][0] / (lr2[0][0] + lr2[0][1]), 2)\n",
        "p3 = round(lr3[0][0] / (lr3[0][0] + lr3[0][1]), 2)\n",
        "p4 = round(lr4[0][0] / (lr4[0][0] + lr4[0][1]), 2)\n",
        "\n",
        "men_means = [p1, p2, p3, p4]\n",
        "women_means = [1-p1, 1-p2, 1-p3, 1-p4]\n",
        "\n",
        "x = np.arange(len(labels))\n",
        "width = 0.35\n",
        "\n",
        "fig, ax = plt.subplots()\n",
        "rects1 = ax.bar(x - width/2, men_means, width, label='Popular')\n",
        "rects2 = ax.bar(x + width/2, women_means, width, label='Unpopular')\n",
        "\n",
        "\n",
        "ax.set_ylabel('Class scores')\n",
        "ax.set_title('% of Popular and Unpopular predictions of Logistic Regression for each cluster')\n",
        "ax.set_xticks(x, labels)\n",
        "ax.legend()\n",
        "\n",
        "\n",
        "fig.tight_layout()\n",
        "\n",
        "plt.show()"
      ],
      "metadata": {
        "colab": {
          "base_uri": "https://localhost:8080/",
          "height": 487
        },
        "id": "6p5u4PTGfLAj",
        "outputId": "6da4952f-c4e9-4ea7-f20e-27276a7e8b66"
      },
      "execution_count": 116,
      "outputs": [
        {
          "output_type": "display_data",
          "data": {
            "text/plain": [
              "<Figure size 640x480 with 1 Axes>"
            ],
            "image/png": "[encoded data removed]"
          },
          "metadata": {}
        }
      ]
    },
    {
      "cell_type": "markdown",
      "source": [
        "Mutual Information"
      ],
      "metadata": {
        "id": "x7YOQODQfg8W"
      }
    },
    {
      "cell_type": "code",
      "source": [
        "def logistic_regression_news_model(name: str, target_labels, X, mi):\n",
        "\n",
        "    labelEn = LabelEncoder()\n",
        "    target_labels = labelEn.fit_transform(target_labels)\n",
        "\n",
        "    unused_features = list(set(X.columns.values) - set(mi[:,1]))\n",
        "    data_cluster_fval = X.drop(unused_features, axis=1, inplace=False)\n",
        "\n",
        "    X_train, X_test, y_train, y_test = train_test_split(data_cluster_fval, target_labels, test_size=0.3, shuffle=False)\n",
        "\n",
        "    lr = LogisticRegression().fit(X_train, y_train)\n",
        "    y_pred = lr.predict(X_test)\n",
        "\n",
        "    print(f\"{name} - Linear regression Results for ANOVA F-value:\")\n",
        "    print(classification_report(y_test, y_pred))\n",
        "    print(\"Confusion Matrix:\")\n",
        "    print(confusion_matrix(y_test, y_pred))\n",
        "    print(\"\\n\")\n",
        "\n",
        "    return Counter(y_pred)\n",
        "\n",
        "\n",
        "\n",
        "lr1 = logistic_regression_news_model(\"Cluster 1\", y1.values, X1, mi1)\n",
        "lr2 = logistic_regression_news_model(\"Cluster 2\", y2.values, X2, mi2)\n",
        "lr3 = logistic_regression_news_model(\"Cluster 3\", y3.values, X3, mi3)\n",
        "lr4 = logistic_regression_news_model(\"Cluster 4\", y4.values, X4, mi4)\n"
      ],
      "metadata": {
        "colab": {
          "base_uri": "https://localhost:8080/"
        },
        "id": "LZAzDDHRfC_d",
        "outputId": "30ce262d-7c36-46c1-f68a-c66e3b235a41"
      },
      "execution_count": 117,
      "outputs": [
        {
          "output_type": "stream",
          "name": "stdout",
          "text": [
            "Cluster 1 - Linear regression Results for ANOVA F-value:\n",
            "              precision    recall  f1-score   support\n",
            "\n",
            "           0       1.00      0.00      0.01      4207\n",
            "           1       0.00      0.00      0.00         0\n",
            "\n",
            "    accuracy                           0.00      4207\n",
            "   macro avg       0.50      0.00      0.00      4207\n",
            "weighted avg       1.00      0.00      0.01      4207\n",
            "\n",
            "Confusion Matrix:\n",
            "[[  21 4186]\n",
            " [   0    0]]\n",
            "\n",
            "\n",
            "Cluster 2 - Linear regression Results for ANOVA F-value:"
          ]
        },
        {
          "output_type": "stream",
          "name": "stderr",
          "text": [
            "/usr/local/lib/python3.10/dist-packages/sklearn/metrics/_classification.py:1344: UndefinedMetricWarning: Recall and F-score are ill-defined and being set to 0.0 in labels with no true samples. Use `zero_division` parameter to control this behavior.\n",
            "  _warn_prf(average, modifier, msg_start, len(result))\n",
            "/usr/local/lib/python3.10/dist-packages/sklearn/metrics/_classification.py:1344: UndefinedMetricWarning: Recall and F-score are ill-defined and being set to 0.0 in labels with no true samples. Use `zero_division` parameter to control this behavior.\n",
            "  _warn_prf(average, modifier, msg_start, len(result))\n",
            "/usr/local/lib/python3.10/dist-packages/sklearn/metrics/_classification.py:1344: UndefinedMetricWarning: Recall and F-score are ill-defined and being set to 0.0 in labels with no true samples. Use `zero_division` parameter to control this behavior.\n",
            "  _warn_prf(average, modifier, msg_start, len(result))\n"
          ]
        },
        {
          "output_type": "stream",
          "name": "stdout",
          "text": [
            "\n",
            "              precision    recall  f1-score   support\n",
            "\n",
            "           0       0.86      0.03      0.06      2984\n",
            "           1       0.13      0.96      0.23       442\n",
            "\n",
            "    accuracy                           0.15      3426\n",
            "   macro avg       0.49      0.50      0.14      3426\n",
            "weighted avg       0.76      0.15      0.08      3426\n",
            "\n",
            "Confusion Matrix:\n",
            "[[  95 2889]\n",
            " [  16  426]]\n",
            "\n",
            "\n",
            "Cluster 3 - Linear regression Results for ANOVA F-value:\n",
            "              precision    recall  f1-score   support\n",
            "\n",
            "           0       1.00      0.03      0.06      5321\n",
            "           1       0.00      0.00      0.00         0\n",
            "\n",
            "    accuracy                           0.03      5321\n",
            "   macro avg       0.50      0.02      0.03      5321\n",
            "weighted avg       1.00      0.03      0.06      5321\n",
            "\n",
            "Confusion Matrix:\n",
            "[[ 165 5156]\n",
            " [   0    0]]\n",
            "\n",
            "\n",
            "Cluster 4 - Linear regression Results for ANOVA F-value:\n",
            "              precision    recall  f1-score   support\n",
            "\n",
            "           0       1.00      0.04      0.07      4367\n",
            "           1       0.00      0.00      0.00         0\n",
            "\n",
            "    accuracy                           0.04      4367\n",
            "   macro avg       0.50      0.02      0.03      4367\n",
            "weighted avg       1.00      0.04      0.07      4367\n",
            "\n",
            "Confusion Matrix:\n",
            "[[ 158 4209]\n",
            " [   0    0]]\n",
            "\n",
            "\n"
          ]
        },
        {
          "output_type": "stream",
          "name": "stderr",
          "text": [
            "/usr/local/lib/python3.10/dist-packages/sklearn/metrics/_classification.py:1344: UndefinedMetricWarning: Recall and F-score are ill-defined and being set to 0.0 in labels with no true samples. Use `zero_division` parameter to control this behavior.\n",
            "  _warn_prf(average, modifier, msg_start, len(result))\n",
            "/usr/local/lib/python3.10/dist-packages/sklearn/metrics/_classification.py:1344: UndefinedMetricWarning: Recall and F-score are ill-defined and being set to 0.0 in labels with no true samples. Use `zero_division` parameter to control this behavior.\n",
            "  _warn_prf(average, modifier, msg_start, len(result))\n",
            "/usr/local/lib/python3.10/dist-packages/sklearn/metrics/_classification.py:1344: UndefinedMetricWarning: Recall and F-score are ill-defined and being set to 0.0 in labels with no true samples. Use `zero_division` parameter to control this behavior.\n",
            "  _warn_prf(average, modifier, msg_start, len(result))\n",
            "/usr/local/lib/python3.10/dist-packages/sklearn/metrics/_classification.py:1344: UndefinedMetricWarning: Recall and F-score are ill-defined and being set to 0.0 in labels with no true samples. Use `zero_division` parameter to control this behavior.\n",
            "  _warn_prf(average, modifier, msg_start, len(result))\n",
            "/usr/local/lib/python3.10/dist-packages/sklearn/metrics/_classification.py:1344: UndefinedMetricWarning: Recall and F-score are ill-defined and being set to 0.0 in labels with no true samples. Use `zero_division` parameter to control this behavior.\n",
            "  _warn_prf(average, modifier, msg_start, len(result))\n",
            "/usr/local/lib/python3.10/dist-packages/sklearn/metrics/_classification.py:1344: UndefinedMetricWarning: Recall and F-score are ill-defined and being set to 0.0 in labels with no true samples. Use `zero_division` parameter to control this behavior.\n",
            "  _warn_prf(average, modifier, msg_start, len(result))\n"
          ]
        }
      ]
    },
    {
      "cell_type": "code",
      "source": [
        "from sklearn.neighbors import KNeighborsClassifier"
      ],
      "metadata": {
        "id": "VD0QvfAmfpDe"
      },
      "execution_count": 96,
      "outputs": []
    },
    {
      "cell_type": "code",
      "source": [
        "def knn_news_model(name: str, target_labels, X, fv):\n",
        "\n",
        "    labelEn = LabelEncoder()\n",
        "    target_labels = labelEn.fit_transform(target_labels)\n",
        "\n",
        "    unused_features = list(set(X.columns.values) - set(fv[:,1]))\n",
        "    data_cluster_fval = X.drop(unused_features, axis=1, inplace=False)\n",
        "\n",
        "    X_train_KN, X_test_KN, y_train_KN, y_test_KN = train_test_split(data_cluster_fval, target_labels, test_size=0.3, shuffle=False)\n",
        "\n",
        "    knn = KNeighborsClassifier(n_neighbors=50).fit(X_train_KN, y_train_KN)\n",
        "    y_pred_KN = knn.predict(X_test_KN)\n",
        "\n",
        "    print(f\"{name} - KNN (k=50) for ANOVA F-value:\")\n",
        "    print(classification_report(y_test_KN, y_pred_KN))\n",
        "    print(\"Confusion Matrix:\")\n",
        "    print(confusion_matrix(y_test_KN, y_pred_KN))\n",
        "    print(\"\\n\")\n",
        "\n",
        "    return Counter(y_pred_KN), accuracy_score(y_test_KN,y_pred_KN), precision_score(y_test_KN,y_pred_KN), recall_score(y_test_KN,y_pred_KN), f1_score(y_test_KN,y_pred_KN)\n",
        "\n",
        "knn1 = knn_news_model(\"Cluster 1\", y1.values, X1, fv1)\n",
        "knn2 = knn_news_model(\"Cluster 2\", y2.values, X2, fv2)\n",
        "knn3 = knn_news_model(\"Cluster 3\", y3.values, X3, fv3)\n",
        "knn4 = knn_news_model(\"Cluster 3\", y4.values, X4, fv4)"
      ],
      "metadata": {
        "colab": {
          "base_uri": "https://localhost:8080/"
        },
        "id": "cjvEl_tNfqPu",
        "outputId": "4368c727-127c-49de-eceb-6ac64195f1f7"
      },
      "execution_count": 118,
      "outputs": [
        {
          "output_type": "stream",
          "name": "stdout",
          "text": [
            "Cluster 1 - KNN (k=50) for ANOVA F-value:\n",
            "              precision    recall  f1-score   support\n",
            "\n",
            "           0       1.00      0.13      0.22      4207\n",
            "           1       0.00      0.00      0.00         0\n",
            "\n",
            "    accuracy                           0.13      4207\n",
            "   macro avg       0.50      0.06      0.11      4207\n",
            "weighted avg       1.00      0.13      0.22      4207\n",
            "\n",
            "Confusion Matrix:\n",
            "[[ 533 3674]\n",
            " [   0    0]]\n",
            "\n",
            "\n"
          ]
        },
        {
          "output_type": "stream",
          "name": "stderr",
          "text": [
            "/usr/local/lib/python3.10/dist-packages/sklearn/metrics/_classification.py:1344: UndefinedMetricWarning: Recall and F-score are ill-defined and being set to 0.0 in labels with no true samples. Use `zero_division` parameter to control this behavior.\n",
            "  _warn_prf(average, modifier, msg_start, len(result))\n",
            "/usr/local/lib/python3.10/dist-packages/sklearn/metrics/_classification.py:1344: UndefinedMetricWarning: Recall and F-score are ill-defined and being set to 0.0 in labels with no true samples. Use `zero_division` parameter to control this behavior.\n",
            "  _warn_prf(average, modifier, msg_start, len(result))\n",
            "/usr/local/lib/python3.10/dist-packages/sklearn/metrics/_classification.py:1344: UndefinedMetricWarning: Recall and F-score are ill-defined and being set to 0.0 in labels with no true samples. Use `zero_division` parameter to control this behavior.\n",
            "  _warn_prf(average, modifier, msg_start, len(result))\n",
            "/usr/local/lib/python3.10/dist-packages/sklearn/metrics/_classification.py:1344: UndefinedMetricWarning: Recall is ill-defined and being set to 0.0 due to no true samples. Use `zero_division` parameter to control this behavior.\n",
            "  _warn_prf(average, modifier, msg_start, len(result))\n"
          ]
        },
        {
          "output_type": "stream",
          "name": "stdout",
          "text": [
            "Cluster 2 - KNN (k=50) for ANOVA F-value:\n",
            "              precision    recall  f1-score   support\n",
            "\n",
            "           0       0.93      0.21      0.35      2984\n",
            "           1       0.14      0.90      0.25       442\n",
            "\n",
            "    accuracy                           0.30      3426\n",
            "   macro avg       0.54      0.56      0.30      3426\n",
            "weighted avg       0.83      0.30      0.33      3426\n",
            "\n",
            "Confusion Matrix:\n",
            "[[ 636 2348]\n",
            " [  45  397]]\n",
            "\n",
            "\n",
            "Cluster 3 - KNN (k=50) for ANOVA F-value:\n",
            "              precision    recall  f1-score   support\n",
            "\n",
            "           0       1.00      0.29      0.45      5321\n",
            "           1       0.00      0.00      0.00         0\n",
            "\n",
            "    accuracy                           0.29      5321\n",
            "   macro avg       0.50      0.14      0.22      5321\n",
            "weighted avg       1.00      0.29      0.45      5321\n",
            "\n",
            "Confusion Matrix:\n",
            "[[1527 3794]\n",
            " [   0    0]]\n",
            "\n",
            "\n"
          ]
        },
        {
          "output_type": "stream",
          "name": "stderr",
          "text": [
            "/usr/local/lib/python3.10/dist-packages/sklearn/metrics/_classification.py:1344: UndefinedMetricWarning: Recall and F-score are ill-defined and being set to 0.0 in labels with no true samples. Use `zero_division` parameter to control this behavior.\n",
            "  _warn_prf(average, modifier, msg_start, len(result))\n",
            "/usr/local/lib/python3.10/dist-packages/sklearn/metrics/_classification.py:1344: UndefinedMetricWarning: Recall and F-score are ill-defined and being set to 0.0 in labels with no true samples. Use `zero_division` parameter to control this behavior.\n",
            "  _warn_prf(average, modifier, msg_start, len(result))\n",
            "/usr/local/lib/python3.10/dist-packages/sklearn/metrics/_classification.py:1344: UndefinedMetricWarning: Recall and F-score are ill-defined and being set to 0.0 in labels with no true samples. Use `zero_division` parameter to control this behavior.\n",
            "  _warn_prf(average, modifier, msg_start, len(result))\n",
            "/usr/local/lib/python3.10/dist-packages/sklearn/metrics/_classification.py:1344: UndefinedMetricWarning: Recall is ill-defined and being set to 0.0 due to no true samples. Use `zero_division` parameter to control this behavior.\n",
            "  _warn_prf(average, modifier, msg_start, len(result))\n"
          ]
        },
        {
          "output_type": "stream",
          "name": "stdout",
          "text": [
            "Cluster 3 - KNN (k=50) for ANOVA F-value:\n",
            "              precision    recall  f1-score   support\n",
            "\n",
            "           0       1.00      0.11      0.20      4367\n",
            "           1       0.00      0.00      0.00         0\n",
            "\n",
            "    accuracy                           0.11      4367\n",
            "   macro avg       0.50      0.06      0.10      4367\n",
            "weighted avg       1.00      0.11      0.20      4367\n",
            "\n",
            "Confusion Matrix:\n",
            "[[ 496 3871]\n",
            " [   0    0]]\n",
            "\n",
            "\n"
          ]
        },
        {
          "output_type": "stream",
          "name": "stderr",
          "text": [
            "/usr/local/lib/python3.10/dist-packages/sklearn/metrics/_classification.py:1344: UndefinedMetricWarning: Recall and F-score are ill-defined and being set to 0.0 in labels with no true samples. Use `zero_division` parameter to control this behavior.\n",
            "  _warn_prf(average, modifier, msg_start, len(result))\n",
            "/usr/local/lib/python3.10/dist-packages/sklearn/metrics/_classification.py:1344: UndefinedMetricWarning: Recall and F-score are ill-defined and being set to 0.0 in labels with no true samples. Use `zero_division` parameter to control this behavior.\n",
            "  _warn_prf(average, modifier, msg_start, len(result))\n",
            "/usr/local/lib/python3.10/dist-packages/sklearn/metrics/_classification.py:1344: UndefinedMetricWarning: Recall and F-score are ill-defined and being set to 0.0 in labels with no true samples. Use `zero_division` parameter to control this behavior.\n",
            "  _warn_prf(average, modifier, msg_start, len(result))\n",
            "/usr/local/lib/python3.10/dist-packages/sklearn/metrics/_classification.py:1344: UndefinedMetricWarning: Recall is ill-defined and being set to 0.0 due to no true samples. Use `zero_division` parameter to control this behavior.\n",
            "  _warn_prf(average, modifier, msg_start, len(result))\n"
          ]
        }
      ]
    },
    {
      "cell_type": "markdown",
      "source": [
        "## dt and rf"
      ],
      "metadata": {
        "id": "ea1iQwUtil4y"
      }
    },
    {
      "cell_type": "code",
      "source": [
        "from sklearn.tree import DecisionTreeClassifier"
      ],
      "metadata": {
        "id": "z_ju0XqLipgF"
      },
      "execution_count": 109,
      "outputs": []
    },
    {
      "cell_type": "code",
      "source": [
        "def decision_tree_news_model(name: str, target_labels, X, fv):\n",
        "\n",
        "    labelEn = LabelEncoder()\n",
        "    target_labels = labelEn.fit_transform(target_labels)\n",
        "\n",
        "    unused_features = list(set(X.columns.values) - set(fv[:,1]))\n",
        "    data_cluster_fval = X.drop(unused_features, axis=1, inplace=False)\n",
        "\n",
        "    X_train_DT, X_test_DT, y_train_DT, y_test_DT = train_test_split(data_cluster_fval, target_labels, test_size=0.3, shuffle=False)\n",
        "\n",
        "    dt = DecisionTreeClassifier().fit(X_train_DT, y_train_DT)\n",
        "    y_pred_DT = dt.predict(X_test_DT)\n",
        "\n",
        "    print(f\"{name} - Decision Tree Results for MI:\")\n",
        "    print(classification_report(y_test_DT, y_pred_DT))\n",
        "    print(\"Confusion Matrix:\")\n",
        "    print(confusion_matrix(y_test_DT, y_pred_DT))\n",
        "    print(\"\\n\")\n",
        "    return Counter(y_pred_DT), accuracy_score(y_test_DT,y_pred_DT), precision_score(y_test_DT,y_pred_DT), recall_score(y_test_DT,y_pred_DT), f1_score(y_test_DT,y_pred_DT)\n",
        "\n",
        "dt1 = decision_tree_news_model(\"Cluster 1\", y1.values, X1, fv1)\n",
        "dt2 = decision_tree_news_model(\"Cluster 2\", y2.values, X2, fv2)\n",
        "dt3 = decision_tree_news_model(\"Cluster 3\", y3.values, X3, fv3)\n",
        "dt4 = decision_tree_news_model(\"Cluster 4\", y4.values, X4, fv4)\n"
      ],
      "metadata": {
        "colab": {
          "base_uri": "https://localhost:8080/"
        },
        "id": "5h1srnIZisy_",
        "outputId": "44957235-c293-4431-b3e9-acf8b12f9f77"
      },
      "execution_count": 119,
      "outputs": [
        {
          "output_type": "stream",
          "name": "stdout",
          "text": [
            "Cluster 1 - Decision Tree Results for MI:\n",
            "              precision    recall  f1-score   support\n",
            "\n",
            "           0       1.00      0.71      0.83      4207\n",
            "           1       0.00      0.00      0.00         0\n",
            "\n",
            "    accuracy                           0.71      4207\n",
            "   macro avg       0.50      0.36      0.42      4207\n",
            "weighted avg       1.00      0.71      0.83      4207\n",
            "\n",
            "Confusion Matrix:\n",
            "[[3005 1202]\n",
            " [   0    0]]\n",
            "\n",
            "\n",
            "Cluster 2 - Decision Tree Results for MI:\n",
            "              precision    recall  f1-score   support\n",
            "\n",
            "           0       0.92      0.49      0.64      2984\n",
            "           1       0.17      0.71      0.28       442\n",
            "\n",
            "    accuracy                           0.52      3426\n",
            "   macro avg       0.55      0.60      0.46      3426\n",
            "weighted avg       0.82      0.52      0.59      3426\n",
            "\n",
            "Confusion Matrix:\n",
            "[[1452 1532]\n",
            " [ 127  315]]\n",
            "\n",
            "\n"
          ]
        },
        {
          "output_type": "stream",
          "name": "stderr",
          "text": [
            "/usr/local/lib/python3.10/dist-packages/sklearn/metrics/_classification.py:1344: UndefinedMetricWarning: Recall and F-score are ill-defined and being set to 0.0 in labels with no true samples. Use `zero_division` parameter to control this behavior.\n",
            "  _warn_prf(average, modifier, msg_start, len(result))\n",
            "/usr/local/lib/python3.10/dist-packages/sklearn/metrics/_classification.py:1344: UndefinedMetricWarning: Recall and F-score are ill-defined and being set to 0.0 in labels with no true samples. Use `zero_division` parameter to control this behavior.\n",
            "  _warn_prf(average, modifier, msg_start, len(result))\n",
            "/usr/local/lib/python3.10/dist-packages/sklearn/metrics/_classification.py:1344: UndefinedMetricWarning: Recall and F-score are ill-defined and being set to 0.0 in labels with no true samples. Use `zero_division` parameter to control this behavior.\n",
            "  _warn_prf(average, modifier, msg_start, len(result))\n",
            "/usr/local/lib/python3.10/dist-packages/sklearn/metrics/_classification.py:1344: UndefinedMetricWarning: Recall is ill-defined and being set to 0.0 due to no true samples. Use `zero_division` parameter to control this behavior.\n",
            "  _warn_prf(average, modifier, msg_start, len(result))\n"
          ]
        },
        {
          "output_type": "stream",
          "name": "stdout",
          "text": [
            "Cluster 3 - Decision Tree Results for MI:\n",
            "              precision    recall  f1-score   support\n",
            "\n",
            "           0       1.00      0.66      0.79      5321\n",
            "           1       0.00      0.00      0.00         0\n",
            "\n",
            "    accuracy                           0.66      5321\n",
            "   macro avg       0.50      0.33      0.40      5321\n",
            "weighted avg       1.00      0.66      0.79      5321\n",
            "\n",
            "Confusion Matrix:\n",
            "[[3491 1830]\n",
            " [   0    0]]\n",
            "\n",
            "\n",
            "Cluster 4 - Decision Tree Results for MI:\n",
            "              precision    recall  f1-score   support\n",
            "\n",
            "           0       1.00      0.60      0.75      4367\n",
            "           1       0.00      0.00      0.00         0\n",
            "\n",
            "    accuracy                           0.60      4367\n",
            "   macro avg       0.50      0.30      0.37      4367\n",
            "weighted avg       1.00      0.60      0.75      4367\n",
            "\n",
            "Confusion Matrix:\n",
            "[[2619 1748]\n",
            " [   0    0]]\n",
            "\n",
            "\n"
          ]
        },
        {
          "output_type": "stream",
          "name": "stderr",
          "text": [
            "/usr/local/lib/python3.10/dist-packages/sklearn/metrics/_classification.py:1344: UndefinedMetricWarning: Recall and F-score are ill-defined and being set to 0.0 in labels with no true samples. Use `zero_division` parameter to control this behavior.\n",
            "  _warn_prf(average, modifier, msg_start, len(result))\n",
            "/usr/local/lib/python3.10/dist-packages/sklearn/metrics/_classification.py:1344: UndefinedMetricWarning: Recall and F-score are ill-defined and being set to 0.0 in labels with no true samples. Use `zero_division` parameter to control this behavior.\n",
            "  _warn_prf(average, modifier, msg_start, len(result))\n",
            "/usr/local/lib/python3.10/dist-packages/sklearn/metrics/_classification.py:1344: UndefinedMetricWarning: Recall and F-score are ill-defined and being set to 0.0 in labels with no true samples. Use `zero_division` parameter to control this behavior.\n",
            "  _warn_prf(average, modifier, msg_start, len(result))\n",
            "/usr/local/lib/python3.10/dist-packages/sklearn/metrics/_classification.py:1344: UndefinedMetricWarning: Recall is ill-defined and being set to 0.0 due to no true samples. Use `zero_division` parameter to control this behavior.\n",
            "  _warn_prf(average, modifier, msg_start, len(result))\n",
            "/usr/local/lib/python3.10/dist-packages/sklearn/metrics/_classification.py:1344: UndefinedMetricWarning: Recall and F-score are ill-defined and being set to 0.0 in labels with no true samples. Use `zero_division` parameter to control this behavior.\n",
            "  _warn_prf(average, modifier, msg_start, len(result))\n",
            "/usr/local/lib/python3.10/dist-packages/sklearn/metrics/_classification.py:1344: UndefinedMetricWarning: Recall and F-score are ill-defined and being set to 0.0 in labels with no true samples. Use `zero_division` parameter to control this behavior.\n",
            "  _warn_prf(average, modifier, msg_start, len(result))\n",
            "/usr/local/lib/python3.10/dist-packages/sklearn/metrics/_classification.py:1344: UndefinedMetricWarning: Recall and F-score are ill-defined and being set to 0.0 in labels with no true samples. Use `zero_division` parameter to control this behavior.\n",
            "  _warn_prf(average, modifier, msg_start, len(result))\n",
            "/usr/local/lib/python3.10/dist-packages/sklearn/metrics/_classification.py:1344: UndefinedMetricWarning: Recall is ill-defined and being set to 0.0 due to no true samples. Use `zero_division` parameter to control this behavior.\n",
            "  _warn_prf(average, modifier, msg_start, len(result))\n"
          ]
        }
      ]
    },
    {
      "cell_type": "code",
      "source": [
        "print(dt1, dt2)"
      ],
      "metadata": {
        "colab": {
          "base_uri": "https://localhost:8080/"
        },
        "id": "NNNXlPB3i2I2",
        "outputId": "29869b03-4ff5-4843-a9b8-ac61f36bdbbc"
      },
      "execution_count": 112,
      "outputs": [
        {
          "output_type": "stream",
          "name": "stdout",
          "text": [
            "(Counter({0: 2998, 1: 1209}), 0.712621820774899, 0.0, 0.0, 0.0) (Counter({1: 1836, 0: 1590}), 0.5166374781085814, 0.16938997821350762, 0.7036199095022625, 0.2730465320456541)\n"
          ]
        }
      ]
    },
    {
      "cell_type": "code",
      "source": [
        "def decision_tree_news_model(name: str, target_labels, X, mi):\n",
        "\n",
        "    labelEn = LabelEncoder()\n",
        "    target_labels = labelEn.fit_transform(target_labels)\n",
        "\n",
        "    unused_features = list(set(X.columns.values) - set(mi[:,1]))\n",
        "    data_cluster_fval = X.drop(unused_features, axis=1, inplace=False)\n",
        "\n",
        "    X_train_DT, X_test_DT, y_train_DT, y_test_DT = train_test_split(data_cluster_fval, target_labels, test_size=0.3, shuffle=False)\n",
        "\n",
        "    dt = DecisionTreeClassifier().fit(X_train_DT, y_train_DT)\n",
        "    y_pred_DT = dt.predict(X_test_DT)\n",
        "\n",
        "    print(f\"{name} - Decision Tree Results for MI:\")\n",
        "    print(classification_report(y_test_DT, y_pred_DT))\n",
        "    print(\"Confusion Matrix:\")\n",
        "    print(confusion_matrix(y_test_DT, y_pred_DT))\n",
        "    print(\"\\n\")\n",
        "\n",
        "    return Counter(y_pred_DT)\n",
        "\n",
        "\n",
        "dt1 = decision_tree_news_model(\"Cluster 1\", y1.values, X1, mi1)\n",
        "dt2 = decision_tree_news_model(\"Cluster 2\", y2.values, X2, mi2)\n",
        "dt3 = decision_tree_news_model(\"Cluster 3\", y3.values, X3, mi3)\n",
        "dt4 = decision_tree_news_model(\"Cluster 4\", y4.values, X4, mi4)"
      ],
      "metadata": {
        "colab": {
          "base_uri": "https://localhost:8080/"
        },
        "id": "PN39KwksjPpo",
        "outputId": "f4e70e38-b1fc-4760-fcd1-5c647f389052"
      },
      "execution_count": 120,
      "outputs": [
        {
          "output_type": "stream",
          "name": "stdout",
          "text": [
            "Cluster 1 - Decision Tree Results for MI:\n",
            "              precision    recall  f1-score   support\n",
            "\n",
            "           0       1.00      0.72      0.84      4207\n",
            "           1       0.00      0.00      0.00         0\n",
            "\n",
            "    accuracy                           0.72      4207\n",
            "   macro avg       0.50      0.36      0.42      4207\n",
            "weighted avg       1.00      0.72      0.84      4207\n",
            "\n",
            "Confusion Matrix:\n",
            "[[3041 1166]\n",
            " [   0    0]]\n",
            "\n",
            "\n",
            "Cluster 2 - Decision Tree Results for MI:\n",
            "              precision    recall  f1-score   support\n",
            "\n",
            "           0       0.93      0.59      0.72      2984\n",
            "           1       0.20      0.71      0.31       442\n",
            "\n",
            "    accuracy                           0.60      3426\n",
            "   macro avg       0.57      0.65      0.52      3426\n",
            "weighted avg       0.84      0.60      0.67      3426\n",
            "\n",
            "Confusion Matrix:\n",
            "[[1750 1234]\n",
            " [ 130  312]]\n",
            "\n",
            "\n"
          ]
        },
        {
          "output_type": "stream",
          "name": "stderr",
          "text": [
            "/usr/local/lib/python3.10/dist-packages/sklearn/metrics/_classification.py:1344: UndefinedMetricWarning: Recall and F-score are ill-defined and being set to 0.0 in labels with no true samples. Use `zero_division` parameter to control this behavior.\n",
            "  _warn_prf(average, modifier, msg_start, len(result))\n",
            "/usr/local/lib/python3.10/dist-packages/sklearn/metrics/_classification.py:1344: UndefinedMetricWarning: Recall and F-score are ill-defined and being set to 0.0 in labels with no true samples. Use `zero_division` parameter to control this behavior.\n",
            "  _warn_prf(average, modifier, msg_start, len(result))\n",
            "/usr/local/lib/python3.10/dist-packages/sklearn/metrics/_classification.py:1344: UndefinedMetricWarning: Recall and F-score are ill-defined and being set to 0.0 in labels with no true samples. Use `zero_division` parameter to control this behavior.\n",
            "  _warn_prf(average, modifier, msg_start, len(result))\n"
          ]
        },
        {
          "output_type": "stream",
          "name": "stdout",
          "text": [
            "Cluster 3 - Decision Tree Results for MI:\n",
            "              precision    recall  f1-score   support\n",
            "\n",
            "           0       1.00      0.89      0.94      5321\n",
            "           1       0.00      0.00      0.00         0\n",
            "\n",
            "    accuracy                           0.89      5321\n",
            "   macro avg       0.50      0.45      0.47      5321\n",
            "weighted avg       1.00      0.89      0.94      5321\n",
            "\n",
            "Confusion Matrix:\n",
            "[[4741  580]\n",
            " [   0    0]]\n",
            "\n",
            "\n",
            "Cluster 4 - Decision Tree Results for MI:\n",
            "              precision    recall  f1-score   support\n",
            "\n",
            "           0       1.00      0.64      0.78      4367\n",
            "           1       0.00      0.00      0.00         0\n",
            "\n",
            "    accuracy                           0.64      4367\n",
            "   macro avg       0.50      0.32      0.39      4367\n",
            "weighted avg       1.00      0.64      0.78      4367\n",
            "\n",
            "Confusion Matrix:\n",
            "[[2787 1580]\n",
            " [   0    0]]\n",
            "\n",
            "\n"
          ]
        },
        {
          "output_type": "stream",
          "name": "stderr",
          "text": [
            "/usr/local/lib/python3.10/dist-packages/sklearn/metrics/_classification.py:1344: UndefinedMetricWarning: Recall and F-score are ill-defined and being set to 0.0 in labels with no true samples. Use `zero_division` parameter to control this behavior.\n",
            "  _warn_prf(average, modifier, msg_start, len(result))\n",
            "/usr/local/lib/python3.10/dist-packages/sklearn/metrics/_classification.py:1344: UndefinedMetricWarning: Recall and F-score are ill-defined and being set to 0.0 in labels with no true samples. Use `zero_division` parameter to control this behavior.\n",
            "  _warn_prf(average, modifier, msg_start, len(result))\n",
            "/usr/local/lib/python3.10/dist-packages/sklearn/metrics/_classification.py:1344: UndefinedMetricWarning: Recall and F-score are ill-defined and being set to 0.0 in labels with no true samples. Use `zero_division` parameter to control this behavior.\n",
            "  _warn_prf(average, modifier, msg_start, len(result))\n",
            "/usr/local/lib/python3.10/dist-packages/sklearn/metrics/_classification.py:1344: UndefinedMetricWarning: Recall and F-score are ill-defined and being set to 0.0 in labels with no true samples. Use `zero_division` parameter to control this behavior.\n",
            "  _warn_prf(average, modifier, msg_start, len(result))\n",
            "/usr/local/lib/python3.10/dist-packages/sklearn/metrics/_classification.py:1344: UndefinedMetricWarning: Recall and F-score are ill-defined and being set to 0.0 in labels with no true samples. Use `zero_division` parameter to control this behavior.\n",
            "  _warn_prf(average, modifier, msg_start, len(result))\n",
            "/usr/local/lib/python3.10/dist-packages/sklearn/metrics/_classification.py:1344: UndefinedMetricWarning: Recall and F-score are ill-defined and being set to 0.0 in labels with no true samples. Use `zero_division` parameter to control this behavior.\n",
            "  _warn_prf(average, modifier, msg_start, len(result))\n"
          ]
        }
      ]
    },
    {
      "cell_type": "code",
      "source": [
        "from sklearn.ensemble import RandomForestClassifier"
      ],
      "metadata": {
        "id": "XSOaFV64moEc"
      },
      "execution_count": 121,
      "outputs": []
    },
    {
      "cell_type": "code",
      "source": [
        "def random_forrest_news_model(name: str, target_labels, X, fv):\n",
        "\n",
        "    labelEn = LabelEncoder()\n",
        "    target_labels = labelEn.fit_transform(target_labels)\n",
        "\n",
        "    unused_features = list(set(X.columns.values) - set(fv[:,1]))\n",
        "    data_cluster_fval = X.drop(unused_features, axis=1, inplace=False)\n",
        "\n",
        "    X_train_RF, X_test_RF, y_train_RF, y_test_RF = train_test_split(data_cluster_fval, target_labels, test_size=0.3, shuffle=False)\n",
        "\n",
        "    rf = RandomForestClassifier().fit(X_train_RF, y_train_RF)\n",
        "    y_pred_RF = rf.predict(X_test_RF)\n",
        "\n",
        "    print(f\"{name} - Random Forrest for ANOVA F-values:\")\n",
        "    print(classification_report(y_test_RF, y_pred_RF))\n",
        "    print(\"Confusion Matrix:\")\n",
        "    print(confusion_matrix(y_test_RF, y_pred_RF))\n",
        "    print(\"\\n\")\n",
        "\n",
        "    return Counter(y_pred_RF), accuracy_score(y_test_RF,y_pred_RF), precision_score(y_test_RF,y_pred_RF), recall_score(y_test_RF,y_pred_RF), f1_score(y_test_RF,y_pred_RF)\n",
        "\n",
        "\n",
        "rf1 = random_forrest_news_model(\"Cluster 1\", y1.values, X1, fv1)\n",
        "rf2 = random_forrest_news_model(\"Cluster 2\", y2.values, X2, fv2)\n",
        "rf3 = random_forrest_news_model(\"Cluster 3\", y3.values, X3, fv3)\n",
        "rf4 = random_forrest_news_model(\"Cluster 4\", y4.values, X4, fv4)"
      ],
      "metadata": {
        "colab": {
          "base_uri": "https://localhost:8080/"
        },
        "id": "A3Z27by8mquh",
        "outputId": "f23487d4-2184-4b5a-caa1-add6d62858d1"
      },
      "execution_count": 122,
      "outputs": [
        {
          "output_type": "stream",
          "name": "stdout",
          "text": [
            "Cluster 1 - Random Forrest for ANOVA F-values:\n",
            "              precision    recall  f1-score   support\n",
            "\n",
            "           0       1.00      0.73      0.84      4207\n",
            "           1       0.00      0.00      0.00         0\n",
            "\n",
            "    accuracy                           0.73      4207\n",
            "   macro avg       0.50      0.36      0.42      4207\n",
            "weighted avg       1.00      0.73      0.84      4207\n",
            "\n",
            "Confusion Matrix:\n",
            "[[3058 1149]\n",
            " [   0    0]]\n",
            "\n",
            "\n"
          ]
        },
        {
          "output_type": "stream",
          "name": "stderr",
          "text": [
            "/usr/local/lib/python3.10/dist-packages/sklearn/metrics/_classification.py:1344: UndefinedMetricWarning: Recall and F-score are ill-defined and being set to 0.0 in labels with no true samples. Use `zero_division` parameter to control this behavior.\n",
            "  _warn_prf(average, modifier, msg_start, len(result))\n",
            "/usr/local/lib/python3.10/dist-packages/sklearn/metrics/_classification.py:1344: UndefinedMetricWarning: Recall and F-score are ill-defined and being set to 0.0 in labels with no true samples. Use `zero_division` parameter to control this behavior.\n",
            "  _warn_prf(average, modifier, msg_start, len(result))\n",
            "/usr/local/lib/python3.10/dist-packages/sklearn/metrics/_classification.py:1344: UndefinedMetricWarning: Recall and F-score are ill-defined and being set to 0.0 in labels with no true samples. Use `zero_division` parameter to control this behavior.\n",
            "  _warn_prf(average, modifier, msg_start, len(result))\n",
            "/usr/local/lib/python3.10/dist-packages/sklearn/metrics/_classification.py:1344: UndefinedMetricWarning: Recall is ill-defined and being set to 0.0 due to no true samples. Use `zero_division` parameter to control this behavior.\n",
            "  _warn_prf(average, modifier, msg_start, len(result))\n"
          ]
        },
        {
          "output_type": "stream",
          "name": "stdout",
          "text": [
            "Cluster 2 - Random Forrest for ANOVA F-values:\n",
            "              precision    recall  f1-score   support\n",
            "\n",
            "           0       0.95      0.44      0.60      2984\n",
            "           1       0.19      0.86      0.30       442\n",
            "\n",
            "    accuracy                           0.49      3426\n",
            "   macro avg       0.57      0.65      0.45      3426\n",
            "weighted avg       0.86      0.49      0.56      3426\n",
            "\n",
            "Confusion Matrix:\n",
            "[[1315 1669]\n",
            " [  63  379]]\n",
            "\n",
            "\n",
            "Cluster 3 - Random Forrest for ANOVA F-values:\n",
            "              precision    recall  f1-score   support\n",
            "\n",
            "           0       1.00      0.64      0.78      5321\n",
            "           1       0.00      0.00      0.00         0\n",
            "\n",
            "    accuracy                           0.64      5321\n",
            "   macro avg       0.50      0.32      0.39      5321\n",
            "weighted avg       1.00      0.64      0.78      5321\n",
            "\n",
            "Confusion Matrix:\n",
            "[[3406 1915]\n",
            " [   0    0]]\n",
            "\n",
            "\n"
          ]
        },
        {
          "output_type": "stream",
          "name": "stderr",
          "text": [
            "/usr/local/lib/python3.10/dist-packages/sklearn/metrics/_classification.py:1344: UndefinedMetricWarning: Recall and F-score are ill-defined and being set to 0.0 in labels with no true samples. Use `zero_division` parameter to control this behavior.\n",
            "  _warn_prf(average, modifier, msg_start, len(result))\n",
            "/usr/local/lib/python3.10/dist-packages/sklearn/metrics/_classification.py:1344: UndefinedMetricWarning: Recall and F-score are ill-defined and being set to 0.0 in labels with no true samples. Use `zero_division` parameter to control this behavior.\n",
            "  _warn_prf(average, modifier, msg_start, len(result))\n",
            "/usr/local/lib/python3.10/dist-packages/sklearn/metrics/_classification.py:1344: UndefinedMetricWarning: Recall and F-score are ill-defined and being set to 0.0 in labels with no true samples. Use `zero_division` parameter to control this behavior.\n",
            "  _warn_prf(average, modifier, msg_start, len(result))\n",
            "/usr/local/lib/python3.10/dist-packages/sklearn/metrics/_classification.py:1344: UndefinedMetricWarning: Recall is ill-defined and being set to 0.0 due to no true samples. Use `zero_division` parameter to control this behavior.\n",
            "  _warn_prf(average, modifier, msg_start, len(result))\n"
          ]
        },
        {
          "output_type": "stream",
          "name": "stdout",
          "text": [
            "Cluster 4 - Random Forrest for ANOVA F-values:\n",
            "              precision    recall  f1-score   support\n",
            "\n",
            "           0       1.00      0.54      0.70      4367\n",
            "           1       0.00      0.00      0.00         0\n",
            "\n",
            "    accuracy                           0.54      4367\n",
            "   macro avg       0.50      0.27      0.35      4367\n",
            "weighted avg       1.00      0.54      0.70      4367\n",
            "\n",
            "Confusion Matrix:\n",
            "[[2338 2029]\n",
            " [   0    0]]\n",
            "\n",
            "\n"
          ]
        },
        {
          "output_type": "stream",
          "name": "stderr",
          "text": [
            "/usr/local/lib/python3.10/dist-packages/sklearn/metrics/_classification.py:1344: UndefinedMetricWarning: Recall and F-score are ill-defined and being set to 0.0 in labels with no true samples. Use `zero_division` parameter to control this behavior.\n",
            "  _warn_prf(average, modifier, msg_start, len(result))\n",
            "/usr/local/lib/python3.10/dist-packages/sklearn/metrics/_classification.py:1344: UndefinedMetricWarning: Recall and F-score are ill-defined and being set to 0.0 in labels with no true samples. Use `zero_division` parameter to control this behavior.\n",
            "  _warn_prf(average, modifier, msg_start, len(result))\n",
            "/usr/local/lib/python3.10/dist-packages/sklearn/metrics/_classification.py:1344: UndefinedMetricWarning: Recall and F-score are ill-defined and being set to 0.0 in labels with no true samples. Use `zero_division` parameter to control this behavior.\n",
            "  _warn_prf(average, modifier, msg_start, len(result))\n",
            "/usr/local/lib/python3.10/dist-packages/sklearn/metrics/_classification.py:1344: UndefinedMetricWarning: Recall is ill-defined and being set to 0.0 due to no true samples. Use `zero_division` parameter to control this behavior.\n",
            "  _warn_prf(average, modifier, msg_start, len(result))\n"
          ]
        }
      ]
    },
    {
      "cell_type": "code",
      "source": [
        "def random_forrest_news_model(name: str, target_labels, X, mi):\n",
        "\n",
        "    labelEn = LabelEncoder()\n",
        "    target_labels = labelEn.fit_transform(target_labels)\n",
        "\n",
        "    unused_features = list(set(X.columns.values) - set(mi[:,1]))\n",
        "    data_cluster_fval = X.drop(unused_features, axis=1, inplace=False)\n",
        "\n",
        "    X_train, X_test, y_train, y_test = train_test_split(data_cluster_fval, target_labels, test_size=0.3, shuffle=False)\n",
        "\n",
        "    rf = RandomForestClassifier().fit(X_train, y_train)\n",
        "    y_pred = rf.predict(X_test)\n",
        "\n",
        "    print(f\"{name} - Random Forrest Results for MI:\")\n",
        "    print(classification_report(y_test, y_pred))\n",
        "    print(\"Confusion Matrix:\")\n",
        "    print(confusion_matrix(y_test, y_pred))\n",
        "    print(\"\\n\")\n",
        "    print(f1_score(y_test,y_pred))\n",
        "\n",
        "    return Counter(y_pred)\n",
        "\n",
        "\n",
        "rf1 = random_forrest_news_model(\"Cluster 1\", y1.values, X1, mi1)\n",
        "rf2 = random_forrest_news_model(\"Cluster 2\", y2.values, X2, mi2)\n",
        "rf3 = random_forrest_news_model(\"Cluster 3\", y3.values, X3, mi3)\n",
        "rf4 = random_forrest_news_model(\"Cluster 4\", y4.values, X4, mi4)"
      ],
      "metadata": {
        "colab": {
          "base_uri": "https://localhost:8080/"
        },
        "id": "Y_ocmRHxm5po",
        "outputId": "5c3a0563-0e4b-42ff-f7ac-2844c1192320"
      },
      "execution_count": 123,
      "outputs": [
        {
          "output_type": "stream",
          "name": "stdout",
          "text": [
            "Cluster 1 - Random Forrest Results for MI:\n",
            "              precision    recall  f1-score   support\n",
            "\n",
            "           0       1.00      0.81      0.90      4207\n",
            "           1       0.00      0.00      0.00         0\n",
            "\n",
            "    accuracy                           0.81      4207\n",
            "   macro avg       0.50      0.41      0.45      4207\n",
            "weighted avg       1.00      0.81      0.90      4207\n",
            "\n",
            "Confusion Matrix:\n",
            "[[3426  781]\n",
            " [   0    0]]\n",
            "\n",
            "\n",
            "0.0\n"
          ]
        },
        {
          "output_type": "stream",
          "name": "stderr",
          "text": [
            "/usr/local/lib/python3.10/dist-packages/sklearn/metrics/_classification.py:1344: UndefinedMetricWarning: Recall and F-score are ill-defined and being set to 0.0 in labels with no true samples. Use `zero_division` parameter to control this behavior.\n",
            "  _warn_prf(average, modifier, msg_start, len(result))\n",
            "/usr/local/lib/python3.10/dist-packages/sklearn/metrics/_classification.py:1344: UndefinedMetricWarning: Recall and F-score are ill-defined and being set to 0.0 in labels with no true samples. Use `zero_division` parameter to control this behavior.\n",
            "  _warn_prf(average, modifier, msg_start, len(result))\n",
            "/usr/local/lib/python3.10/dist-packages/sklearn/metrics/_classification.py:1344: UndefinedMetricWarning: Recall and F-score are ill-defined and being set to 0.0 in labels with no true samples. Use `zero_division` parameter to control this behavior.\n",
            "  _warn_prf(average, modifier, msg_start, len(result))\n"
          ]
        },
        {
          "output_type": "stream",
          "name": "stdout",
          "text": [
            "Cluster 2 - Random Forrest Results for MI:\n",
            "              precision    recall  f1-score   support\n",
            "\n",
            "           0       0.97      0.55      0.71      2984\n",
            "           1       0.23      0.90      0.37       442\n",
            "\n",
            "    accuracy                           0.60      3426\n",
            "   macro avg       0.60      0.73      0.54      3426\n",
            "weighted avg       0.88      0.60      0.66      3426\n",
            "\n",
            "Confusion Matrix:\n",
            "[[1656 1328]\n",
            " [  45  397]]\n",
            "\n",
            "\n",
            "0.3664051684356253\n",
            "Cluster 3 - Random Forrest Results for MI:\n",
            "              precision    recall  f1-score   support\n",
            "\n",
            "           0       1.00      0.94      0.97      5321\n",
            "           1       0.00      0.00      0.00         0\n",
            "\n",
            "    accuracy                           0.94      5321\n",
            "   macro avg       0.50      0.47      0.48      5321\n",
            "weighted avg       1.00      0.94      0.97      5321\n",
            "\n",
            "Confusion Matrix:\n",
            "[[4990  331]\n",
            " [   0    0]]\n",
            "\n",
            "\n",
            "0.0\n"
          ]
        },
        {
          "output_type": "stream",
          "name": "stderr",
          "text": [
            "/usr/local/lib/python3.10/dist-packages/sklearn/metrics/_classification.py:1344: UndefinedMetricWarning: Recall and F-score are ill-defined and being set to 0.0 in labels with no true samples. Use `zero_division` parameter to control this behavior.\n",
            "  _warn_prf(average, modifier, msg_start, len(result))\n",
            "/usr/local/lib/python3.10/dist-packages/sklearn/metrics/_classification.py:1344: UndefinedMetricWarning: Recall and F-score are ill-defined and being set to 0.0 in labels with no true samples. Use `zero_division` parameter to control this behavior.\n",
            "  _warn_prf(average, modifier, msg_start, len(result))\n",
            "/usr/local/lib/python3.10/dist-packages/sklearn/metrics/_classification.py:1344: UndefinedMetricWarning: Recall and F-score are ill-defined and being set to 0.0 in labels with no true samples. Use `zero_division` parameter to control this behavior.\n",
            "  _warn_prf(average, modifier, msg_start, len(result))\n"
          ]
        },
        {
          "output_type": "stream",
          "name": "stdout",
          "text": [
            "Cluster 4 - Random Forrest Results for MI:\n",
            "              precision    recall  f1-score   support\n",
            "\n",
            "           0       1.00      0.65      0.79      4367\n",
            "           1       0.00      0.00      0.00         0\n",
            "\n",
            "    accuracy                           0.65      4367\n",
            "   macro avg       0.50      0.33      0.39      4367\n",
            "weighted avg       1.00      0.65      0.79      4367\n",
            "\n",
            "Confusion Matrix:\n",
            "[[2847 1520]\n",
            " [   0    0]]\n",
            "\n",
            "\n",
            "0.0\n"
          ]
        },
        {
          "output_type": "stream",
          "name": "stderr",
          "text": [
            "/usr/local/lib/python3.10/dist-packages/sklearn/metrics/_classification.py:1344: UndefinedMetricWarning: Recall and F-score are ill-defined and being set to 0.0 in labels with no true samples. Use `zero_division` parameter to control this behavior.\n",
            "  _warn_prf(average, modifier, msg_start, len(result))\n",
            "/usr/local/lib/python3.10/dist-packages/sklearn/metrics/_classification.py:1344: UndefinedMetricWarning: Recall and F-score are ill-defined and being set to 0.0 in labels with no true samples. Use `zero_division` parameter to control this behavior.\n",
            "  _warn_prf(average, modifier, msg_start, len(result))\n",
            "/usr/local/lib/python3.10/dist-packages/sklearn/metrics/_classification.py:1344: UndefinedMetricWarning: Recall and F-score are ill-defined and being set to 0.0 in labels with no true samples. Use `zero_division` parameter to control this behavior.\n",
            "  _warn_prf(average, modifier, msg_start, len(result))\n"
          ]
        }
      ]
    },
    {
      "cell_type": "markdown",
      "source": [
        "## SVM"
      ],
      "metadata": {
        "id": "hO4HjoTnnNGZ"
      }
    },
    {
      "cell_type": "code",
      "source": [
        "from sklearn.svm import SVC"
      ],
      "metadata": {
        "id": "nXMWjYuTnPKc"
      },
      "execution_count": 124,
      "outputs": []
    },
    {
      "cell_type": "code",
      "source": [
        "def svm_news_model(name: str, target_labels, X, fv):\n",
        "\n",
        "    labelEn = LabelEncoder()\n",
        "    target_labels = labelEn.fit_transform(target_labels)\n",
        "\n",
        "    unused_features = list(set(X.columns.values) - set(fv[:,1]))\n",
        "    data_cluster_fval = X.drop(unused_features, axis=1, inplace=False)\n",
        "\n",
        "    X_train_SV, X_test_SV, y_train_SV, y_test_SV = train_test_split(data_cluster_fval, target_labels, test_size=0.3, shuffle=False)\n",
        "\n",
        "    svm = SVC().fit(X_train_SV, y_train_SV)\n",
        "    y_pred_SV = svm.predict(X_test_SV)\n",
        "\n",
        "    print(f\"{name} - SVM for ANOVA F-values:\")\n",
        "    print(classification_report(y_test_SV, y_pred_SV))\n",
        "    print(\"Confusion Matrix:\")\n",
        "    print(confusion_matrix(y_test_SV, y_pred_SV))\n",
        "    print(\"\\n\")\n",
        "\n",
        "    return Counter(y_pred_SV), accuracy_score(y_test_SV,y_pred_SV), precision_score(y_test_SV,y_pred_SV), recall_score(y_test_SV,y_pred_SV), f1_score(y_test_SV,y_pred_SV)\n",
        "\n",
        "\n",
        "svm1 = svm_news_model(\"Cluster 1\", y1.values, X1, fv1)\n",
        "svm2 = svm_news_model(\"Cluster 2\", y2.values, X2, fv2)\n",
        "svm3 = svm_news_model(\"Cluster 3\", y3.values, X3, fv3)\n",
        "svm4 = svm_news_model(\"Cluster 4\", y4.values, X4, fv4)\n"
      ],
      "metadata": {
        "colab": {
          "base_uri": "https://localhost:8080/"
        },
        "id": "6Nd7nriBnQcU",
        "outputId": "6fcda6ce-cbeb-4dc1-b115-c171739db734"
      },
      "execution_count": 125,
      "outputs": [
        {
          "output_type": "stream",
          "name": "stdout",
          "text": [
            "Cluster 1 - SVM for ANOVA F-values:\n",
            "              precision    recall  f1-score   support\n",
            "\n",
            "           0       1.00      0.11      0.19      4207\n",
            "           1       0.00      0.00      0.00         0\n",
            "\n",
            "    accuracy                           0.11      4207\n",
            "   macro avg       0.50      0.05      0.10      4207\n",
            "weighted avg       1.00      0.11      0.19      4207\n",
            "\n",
            "Confusion Matrix:\n",
            "[[ 450 3757]\n",
            " [   0    0]]\n",
            "\n",
            "\n"
          ]
        },
        {
          "output_type": "stream",
          "name": "stderr",
          "text": [
            "/usr/local/lib/python3.10/dist-packages/sklearn/metrics/_classification.py:1344: UndefinedMetricWarning: Recall and F-score are ill-defined and being set to 0.0 in labels with no true samples. Use `zero_division` parameter to control this behavior.\n",
            "  _warn_prf(average, modifier, msg_start, len(result))\n",
            "/usr/local/lib/python3.10/dist-packages/sklearn/metrics/_classification.py:1344: UndefinedMetricWarning: Recall and F-score are ill-defined and being set to 0.0 in labels with no true samples. Use `zero_division` parameter to control this behavior.\n",
            "  _warn_prf(average, modifier, msg_start, len(result))\n",
            "/usr/local/lib/python3.10/dist-packages/sklearn/metrics/_classification.py:1344: UndefinedMetricWarning: Recall and F-score are ill-defined and being set to 0.0 in labels with no true samples. Use `zero_division` parameter to control this behavior.\n",
            "  _warn_prf(average, modifier, msg_start, len(result))\n",
            "/usr/local/lib/python3.10/dist-packages/sklearn/metrics/_classification.py:1344: UndefinedMetricWarning: Recall is ill-defined and being set to 0.0 due to no true samples. Use `zero_division` parameter to control this behavior.\n",
            "  _warn_prf(average, modifier, msg_start, len(result))\n"
          ]
        },
        {
          "output_type": "stream",
          "name": "stdout",
          "text": [
            "Cluster 2 - SVM for ANOVA F-values:\n",
            "              precision    recall  f1-score   support\n",
            "\n",
            "           0       0.00      0.00      0.00      2984\n",
            "           1       0.13      1.00      0.23       442\n",
            "\n",
            "    accuracy                           0.13      3426\n",
            "   macro avg       0.06      0.50      0.11      3426\n",
            "weighted avg       0.02      0.13      0.03      3426\n",
            "\n",
            "Confusion Matrix:\n",
            "[[   0 2984]\n",
            " [   0  442]]\n",
            "\n",
            "\n"
          ]
        },
        {
          "output_type": "stream",
          "name": "stderr",
          "text": [
            "/usr/local/lib/python3.10/dist-packages/sklearn/metrics/_classification.py:1344: UndefinedMetricWarning: Precision and F-score are ill-defined and being set to 0.0 in labels with no predicted samples. Use `zero_division` parameter to control this behavior.\n",
            "  _warn_prf(average, modifier, msg_start, len(result))\n",
            "/usr/local/lib/python3.10/dist-packages/sklearn/metrics/_classification.py:1344: UndefinedMetricWarning: Precision and F-score are ill-defined and being set to 0.0 in labels with no predicted samples. Use `zero_division` parameter to control this behavior.\n",
            "  _warn_prf(average, modifier, msg_start, len(result))\n",
            "/usr/local/lib/python3.10/dist-packages/sklearn/metrics/_classification.py:1344: UndefinedMetricWarning: Precision and F-score are ill-defined and being set to 0.0 in labels with no predicted samples. Use `zero_division` parameter to control this behavior.\n",
            "  _warn_prf(average, modifier, msg_start, len(result))\n"
          ]
        },
        {
          "output_type": "stream",
          "name": "stdout",
          "text": [
            "Cluster 3 - SVM for ANOVA F-values:\n",
            "              precision    recall  f1-score   support\n",
            "\n",
            "           0       1.00      0.17      0.29      5321\n",
            "           1       0.00      0.00      0.00         0\n",
            "\n",
            "    accuracy                           0.17      5321\n",
            "   macro avg       0.50      0.08      0.14      5321\n",
            "weighted avg       1.00      0.17      0.29      5321\n",
            "\n",
            "Confusion Matrix:\n",
            "[[ 891 4430]\n",
            " [   0    0]]\n",
            "\n",
            "\n"
          ]
        },
        {
          "output_type": "stream",
          "name": "stderr",
          "text": [
            "/usr/local/lib/python3.10/dist-packages/sklearn/metrics/_classification.py:1344: UndefinedMetricWarning: Recall and F-score are ill-defined and being set to 0.0 in labels with no true samples. Use `zero_division` parameter to control this behavior.\n",
            "  _warn_prf(average, modifier, msg_start, len(result))\n",
            "/usr/local/lib/python3.10/dist-packages/sklearn/metrics/_classification.py:1344: UndefinedMetricWarning: Recall and F-score are ill-defined and being set to 0.0 in labels with no true samples. Use `zero_division` parameter to control this behavior.\n",
            "  _warn_prf(average, modifier, msg_start, len(result))\n",
            "/usr/local/lib/python3.10/dist-packages/sklearn/metrics/_classification.py:1344: UndefinedMetricWarning: Recall and F-score are ill-defined and being set to 0.0 in labels with no true samples. Use `zero_division` parameter to control this behavior.\n",
            "  _warn_prf(average, modifier, msg_start, len(result))\n",
            "/usr/local/lib/python3.10/dist-packages/sklearn/metrics/_classification.py:1344: UndefinedMetricWarning: Recall is ill-defined and being set to 0.0 due to no true samples. Use `zero_division` parameter to control this behavior.\n",
            "  _warn_prf(average, modifier, msg_start, len(result))\n"
          ]
        },
        {
          "output_type": "stream",
          "name": "stdout",
          "text": [
            "Cluster 4 - SVM for ANOVA F-values:\n",
            "              precision    recall  f1-score   support\n",
            "\n",
            "           0       1.00      0.04      0.08      4367\n",
            "           1       0.00      0.00      0.00         0\n",
            "\n",
            "    accuracy                           0.04      4367\n",
            "   macro avg       0.50      0.02      0.04      4367\n",
            "weighted avg       1.00      0.04      0.08      4367\n",
            "\n",
            "Confusion Matrix:\n",
            "[[ 181 4186]\n",
            " [   0    0]]\n",
            "\n",
            "\n"
          ]
        },
        {
          "output_type": "stream",
          "name": "stderr",
          "text": [
            "/usr/local/lib/python3.10/dist-packages/sklearn/metrics/_classification.py:1344: UndefinedMetricWarning: Recall and F-score are ill-defined and being set to 0.0 in labels with no true samples. Use `zero_division` parameter to control this behavior.\n",
            "  _warn_prf(average, modifier, msg_start, len(result))\n",
            "/usr/local/lib/python3.10/dist-packages/sklearn/metrics/_classification.py:1344: UndefinedMetricWarning: Recall and F-score are ill-defined and being set to 0.0 in labels with no true samples. Use `zero_division` parameter to control this behavior.\n",
            "  _warn_prf(average, modifier, msg_start, len(result))\n",
            "/usr/local/lib/python3.10/dist-packages/sklearn/metrics/_classification.py:1344: UndefinedMetricWarning: Recall and F-score are ill-defined and being set to 0.0 in labels with no true samples. Use `zero_division` parameter to control this behavior.\n",
            "  _warn_prf(average, modifier, msg_start, len(result))\n",
            "/usr/local/lib/python3.10/dist-packages/sklearn/metrics/_classification.py:1344: UndefinedMetricWarning: Recall is ill-defined and being set to 0.0 due to no true samples. Use `zero_division` parameter to control this behavior.\n",
            "  _warn_prf(average, modifier, msg_start, len(result))\n"
          ]
        }
      ]
    },
    {
      "cell_type": "code",
      "source": [
        "def svm_news_model(name: str, target_labels, X, mi):\n",
        "\n",
        "    labelEn = LabelEncoder()\n",
        "    target_labels = labelEn.fit_transform(target_labels)\n",
        "\n",
        "    unused_features = list(set(X.columns.values) - set(mi[:,1]))\n",
        "    data_cluster_fval = X.drop(unused_features, axis=1, inplace=False)\n",
        "\n",
        "    X_train, X_test, y_train, y_test = train_test_split(data_cluster_fval, target_labels, test_size=0.3, shuffle=False)\n",
        "\n",
        "    svm = SVC().fit(X_train, y_train)\n",
        "    y_pred = svm.predict(X_test)\n",
        "\n",
        "    print(f\"{name} - SVM for MI:\")\n",
        "    print(classification_report(y_test, y_pred))\n",
        "    print(\"Confusion Matrix:\")\n",
        "    print(confusion_matrix(y_test, y_pred))\n",
        "    print(\"\\n\")\n",
        "\n",
        "    return Counter(y_pred)\n",
        "\n",
        "\n",
        "svm1 = svm_news_model(\"Cluster 1\", y1.values, X1, mi1)\n",
        "svm2 = svm_news_model(\"Cluster 2\", y2.values, X2, mi2)\n",
        "svm3 = svm_news_model(\"Cluster 3\", y3.values, X3, mi3)\n",
        "svm4 = svm_news_model(\"Cluster 4\", y4.values, X4, mi4)"
      ],
      "metadata": {
        "colab": {
          "base_uri": "https://localhost:8080/"
        },
        "id": "2y4Y4w1Vnipm",
        "outputId": "0391e897-27b1-4ad8-d883-39cc5d973e4a"
      },
      "execution_count": 126,
      "outputs": [
        {
          "output_type": "stream",
          "name": "stdout",
          "text": [
            "Cluster 1 - SVM for MI:\n",
            "              precision    recall  f1-score   support\n",
            "\n",
            "           0       1.00      0.01      0.02      4207\n",
            "           1       0.00      0.00      0.00         0\n",
            "\n",
            "    accuracy                           0.01      4207\n",
            "   macro avg       0.50      0.00      0.01      4207\n",
            "weighted avg       1.00      0.01      0.02      4207\n",
            "\n",
            "Confusion Matrix:\n",
            "[[  32 4175]\n",
            " [   0    0]]\n",
            "\n",
            "\n"
          ]
        },
        {
          "output_type": "stream",
          "name": "stderr",
          "text": [
            "/usr/local/lib/python3.10/dist-packages/sklearn/metrics/_classification.py:1344: UndefinedMetricWarning: Recall and F-score are ill-defined and being set to 0.0 in labels with no true samples. Use `zero_division` parameter to control this behavior.\n",
            "  _warn_prf(average, modifier, msg_start, len(result))\n",
            "/usr/local/lib/python3.10/dist-packages/sklearn/metrics/_classification.py:1344: UndefinedMetricWarning: Recall and F-score are ill-defined and being set to 0.0 in labels with no true samples. Use `zero_division` parameter to control this behavior.\n",
            "  _warn_prf(average, modifier, msg_start, len(result))\n",
            "/usr/local/lib/python3.10/dist-packages/sklearn/metrics/_classification.py:1344: UndefinedMetricWarning: Recall and F-score are ill-defined and being set to 0.0 in labels with no true samples. Use `zero_division` parameter to control this behavior.\n",
            "  _warn_prf(average, modifier, msg_start, len(result))\n"
          ]
        },
        {
          "output_type": "stream",
          "name": "stdout",
          "text": [
            "Cluster 2 - SVM for MI:\n",
            "              precision    recall  f1-score   support\n",
            "\n",
            "           0       0.96      0.04      0.08      2984\n",
            "           1       0.13      0.99      0.23       442\n",
            "\n",
            "    accuracy                           0.16      3426\n",
            "   macro avg       0.55      0.51      0.16      3426\n",
            "weighted avg       0.85      0.16      0.10      3426\n",
            "\n",
            "Confusion Matrix:\n",
            "[[ 123 2861]\n",
            " [   5  437]]\n",
            "\n",
            "\n",
            "Cluster 3 - SVM for MI:\n",
            "              precision    recall  f1-score   support\n",
            "\n",
            "           0       1.00      0.04      0.07      5321\n",
            "           1       0.00      0.00      0.00         0\n",
            "\n",
            "    accuracy                           0.04      5321\n",
            "   macro avg       0.50      0.02      0.04      5321\n",
            "weighted avg       1.00      0.04      0.07      5321\n",
            "\n",
            "Confusion Matrix:\n",
            "[[ 197 5124]\n",
            " [   0    0]]\n",
            "\n",
            "\n"
          ]
        },
        {
          "output_type": "stream",
          "name": "stderr",
          "text": [
            "/usr/local/lib/python3.10/dist-packages/sklearn/metrics/_classification.py:1344: UndefinedMetricWarning: Recall and F-score are ill-defined and being set to 0.0 in labels with no true samples. Use `zero_division` parameter to control this behavior.\n",
            "  _warn_prf(average, modifier, msg_start, len(result))\n",
            "/usr/local/lib/python3.10/dist-packages/sklearn/metrics/_classification.py:1344: UndefinedMetricWarning: Recall and F-score are ill-defined and being set to 0.0 in labels with no true samples. Use `zero_division` parameter to control this behavior.\n",
            "  _warn_prf(average, modifier, msg_start, len(result))\n",
            "/usr/local/lib/python3.10/dist-packages/sklearn/metrics/_classification.py:1344: UndefinedMetricWarning: Recall and F-score are ill-defined and being set to 0.0 in labels with no true samples. Use `zero_division` parameter to control this behavior.\n",
            "  _warn_prf(average, modifier, msg_start, len(result))\n"
          ]
        },
        {
          "output_type": "stream",
          "name": "stdout",
          "text": [
            "Cluster 4 - SVM for MI:\n",
            "              precision    recall  f1-score   support\n",
            "\n",
            "           0       1.00      0.02      0.04      4367\n",
            "           1       0.00      0.00      0.00         0\n",
            "\n",
            "    accuracy                           0.02      4367\n",
            "   macro avg       0.50      0.01      0.02      4367\n",
            "weighted avg       1.00      0.02      0.04      4367\n",
            "\n",
            "Confusion Matrix:\n",
            "[[ 100 4267]\n",
            " [   0    0]]\n",
            "\n",
            "\n"
          ]
        },
        {
          "output_type": "stream",
          "name": "stderr",
          "text": [
            "/usr/local/lib/python3.10/dist-packages/sklearn/metrics/_classification.py:1344: UndefinedMetricWarning: Recall and F-score are ill-defined and being set to 0.0 in labels with no true samples. Use `zero_division` parameter to control this behavior.\n",
            "  _warn_prf(average, modifier, msg_start, len(result))\n",
            "/usr/local/lib/python3.10/dist-packages/sklearn/metrics/_classification.py:1344: UndefinedMetricWarning: Recall and F-score are ill-defined and being set to 0.0 in labels with no true samples. Use `zero_division` parameter to control this behavior.\n",
            "  _warn_prf(average, modifier, msg_start, len(result))\n",
            "/usr/local/lib/python3.10/dist-packages/sklearn/metrics/_classification.py:1344: UndefinedMetricWarning: Recall and F-score are ill-defined and being set to 0.0 in labels with no true samples. Use `zero_division` parameter to control this behavior.\n",
            "  _warn_prf(average, modifier, msg_start, len(result))\n"
          ]
        }
      ]
    },
    {
      "cell_type": "code",
      "source": [],
      "metadata": {
        "id": "zWZVqQ39n1Of"
      },
      "execution_count": null,
      "outputs": []
    },
    {
      "cell_type": "code",
      "source": [],
      "metadata": {
        "id": "7lJcpZ9nn_Wv"
      },
      "execution_count": null,
      "outputs": []
    }
  ]
}